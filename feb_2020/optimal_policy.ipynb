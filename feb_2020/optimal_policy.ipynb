{
 "cells": [
  {
   "cell_type": "code",
   "execution_count": 1,
   "metadata": {},
   "outputs": [],
   "source": [
    "import os, networkx as nx, sys, pandas as pd\n",
    "from graph_builder import *"
   ]
  },
  {
   "cell_type": "code",
   "execution_count": 2,
   "metadata": {},
   "outputs": [
    {
     "data": {
      "text/plain": [
       "'C:\\\\Users\\\\ronal\\\\Documents\\\\GitHub\\\\decision-making\\\\feb_2020'"
      ]
     },
     "execution_count": 2,
     "metadata": {},
     "output_type": "execute_result"
    }
   ],
   "source": [
    "os.getcwd() # Check current directory"
   ]
  },
  {
   "cell_type": "code",
   "execution_count": 3,
   "metadata": {},
   "outputs": [],
   "source": [
    "def iterate_graph_builder(directory: str):\n",
    "    '''\n",
    "    Build graphs from all csv files within directory. \n",
    "    Returns a dictionary with key:value = maze_name:maze_graph\n",
    "    '''\n",
    "    world_names = os.listdir(directory) # List of all world names\n",
    "    graphs = {}\n",
    "    for world in world_names:\n",
    "        graphs[world.replace('.csv', '')] = build_graph(directory + '\\\\' + world) # Store each graph as a value, keyed by the corresponding world name.\n",
    "    \n",
    "    return graphs"
   ]
  },
  {
   "cell_type": "code",
   "execution_count": 4,
   "metadata": {},
   "outputs": [],
   "source": [
    "graphs = iterate_graph_builder('tree_builder\\\\worlds') # Initialize graphs within our programming environment"
   ]
  },
  {
   "cell_type": "code",
   "execution_count": 20,
   "metadata": {},
   "outputs": [
    {
     "data": {
      "text/plain": [
       "0"
      ]
     },
     "execution_count": 20,
     "metadata": {},
     "output_type": "execute_result"
    }
   ],
   "source": [
    "graphs['courtyard'].in_degree('N3719219')"
   ]
  }
 ],
 "metadata": {
  "kernelspec": {
   "display_name": "Python 3",
   "language": "python",
   "name": "python3"
  },
  "language_info": {
   "codemirror_mode": {
    "name": "ipython",
    "version": 3
   },
   "file_extension": ".py",
   "mimetype": "text/x-python",
   "name": "python",
   "nbconvert_exporter": "python",
   "pygments_lexer": "ipython3",
   "version": "3.7.5"
  }
 },
 "nbformat": 4,
 "nbformat_minor": 4
}
