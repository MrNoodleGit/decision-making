{
 "cells": [
  {
   "cell_type": "code",
   "execution_count": 1,
   "metadata": {},
   "outputs": [],
   "source": [
    "import numpy as np\n",
    "from ipythonblocks import ImageGrid"
   ]
  },
  {
   "cell_type": "code",
   "execution_count": 2,
   "metadata": {},
   "outputs": [],
   "source": [
    "initial_observations = [(1,0),(2,0),(3,0),(4,0),(5,0),(0,1),(0,2),(0,3),(0,4)]\n",
    "start_pos = (0,0)"
   ]
  },
  {
   "cell_type": "code",
   "execution_count": 3,
   "metadata": {},
   "outputs": [],
   "source": [
    "def readMap(file_name):\n",
    "    return np.genfromtxt(file_name,dtype='int32',skip_header=2,delimiter=1)"
   ]
  },
  {
   "cell_type": "code",
   "execution_count": 4,
   "metadata": {},
   "outputs": [],
   "source": [
    "def init_map_grid(map_file, start_pos = None, init_observations = None):\n",
    "    map = readMap(map_file)\n",
    "    \n",
    "    grid_columns = map.shape[1]\n",
    "    grid_rows = map.shape[0]\n",
    "    grid = ImageGrid(grid_columns,grid_rows, block_size = 50, origin = 'upper-left')\n",
    "        \n",
    "    for row in range(grid_rows):\n",
    "        for column in range(grid_columns):\n",
    "            if map[row,column] == 6:\n",
    "                grid[column,row] = (255, 255, 255)\n",
    "\n",
    "            if map[row,column] == 0:\n",
    "                grid[column,row] = (0, 0, 0)\n",
    "\n",
    "            if map[row,column] == 3:\n",
    "                grid[column,row] = (153, 0, 0)\n",
    "\n",
    "            if map[row,column] == 5:\n",
    "                grid[column,row] = (0, 0, 255)\n",
    "                \n",
    "    if start_pos is not None:\n",
    "        x_pos = start_pos[0]\n",
    "        y_pos = start_pos[1]\n",
    "        grid[x_pos, y_pos] = (0, 0, 255)\n",
    "        \n",
    "    if init_observations is not None:\n",
    "        makeObserved(grid, init_observations)\n",
    "            \n",
    "    return grid"
   ]
  },
  {
   "cell_type": "code",
   "execution_count": 9,
   "metadata": {},
   "outputs": [
    {
     "data": {
      "text/html": [
       "<style type=\"text/css\">table.blockgrid {border: none;} .blockgrid tr {border: none;} .blockgrid td {padding: 0px;} #blocks0c5a87c5-9d75-4089-8f5c-0ef1674a88cc td {border: 1px solid white;}</style><table id=\"blocks0c5a87c5-9d75-4089-8f5c-0ef1674a88cc\" class=\"blockgrid\"><tbody><tr><td title=\"Index: [0, 0]&#10;Color: (0, 0, 255)\" style=\"width: 50px; height: 50px;background-color: rgb(0, 0, 255);\"></td><td title=\"Index: [1, 0]&#10;Color: (0, 0, 0)\" style=\"width: 50px; height: 50px;background-color: rgb(0, 0, 0);\"></td><td title=\"Index: [2, 0]&#10;Color: (0, 0, 0)\" style=\"width: 50px; height: 50px;background-color: rgb(0, 0, 0);\"></td><td title=\"Index: [3, 0]&#10;Color: (0, 0, 0)\" style=\"width: 50px; height: 50px;background-color: rgb(0, 0, 0);\"></td><td title=\"Index: [4, 0]&#10;Color: (0, 0, 0)\" style=\"width: 50px; height: 50px;background-color: rgb(0, 0, 0);\"></td><td title=\"Index: [5, 0]&#10;Color: (153, 0, 0)\" style=\"width: 50px; height: 50px;background-color: rgb(153, 0, 0);\"></td></tr><tr><td title=\"Index: [0, 1]&#10;Color: (0, 0, 0)\" style=\"width: 50px; height: 50px;background-color: rgb(0, 0, 0);\"></td><td title=\"Index: [1, 1]&#10;Color: (153, 0, 0)\" style=\"width: 50px; height: 50px;background-color: rgb(153, 0, 0);\"></td><td title=\"Index: [2, 1]&#10;Color: (0, 0, 0)\" style=\"width: 50px; height: 50px;background-color: rgb(0, 0, 0);\"></td><td title=\"Index: [3, 1]&#10;Color: (0, 0, 0)\" style=\"width: 50px; height: 50px;background-color: rgb(0, 0, 0);\"></td><td title=\"Index: [4, 1]&#10;Color: (0, 0, 0)\" style=\"width: 50px; height: 50px;background-color: rgb(0, 0, 0);\"></td><td title=\"Index: [5, 1]&#10;Color: (153, 0, 0)\" style=\"width: 50px; height: 50px;background-color: rgb(153, 0, 0);\"></td></tr><tr><td title=\"Index: [0, 2]&#10;Color: (0, 0, 0)\" style=\"width: 50px; height: 50px;background-color: rgb(0, 0, 0);\"></td><td title=\"Index: [1, 2]&#10;Color: (153, 0, 0)\" style=\"width: 50px; height: 50px;background-color: rgb(153, 0, 0);\"></td><td title=\"Index: [2, 2]&#10;Color: (153, 0, 0)\" style=\"width: 50px; height: 50px;background-color: rgb(153, 0, 0);\"></td><td title=\"Index: [3, 2]&#10;Color: (0, 0, 0)\" style=\"width: 50px; height: 50px;background-color: rgb(0, 0, 0);\"></td><td title=\"Index: [4, 2]&#10;Color: (153, 0, 0)\" style=\"width: 50px; height: 50px;background-color: rgb(153, 0, 0);\"></td><td title=\"Index: [5, 2]&#10;Color: (153, 0, 0)\" style=\"width: 50px; height: 50px;background-color: rgb(153, 0, 0);\"></td></tr><tr><td title=\"Index: [0, 3]&#10;Color: (0, 0, 0)\" style=\"width: 50px; height: 50px;background-color: rgb(0, 0, 0);\"></td><td title=\"Index: [1, 3]&#10;Color: (0, 0, 0)\" style=\"width: 50px; height: 50px;background-color: rgb(0, 0, 0);\"></td><td title=\"Index: [2, 3]&#10;Color: (0, 0, 0)\" style=\"width: 50px; height: 50px;background-color: rgb(0, 0, 0);\"></td><td title=\"Index: [3, 3]&#10;Color: (0, 0, 0)\" style=\"width: 50px; height: 50px;background-color: rgb(0, 0, 0);\"></td><td title=\"Index: [4, 3]&#10;Color: (0, 0, 0)\" style=\"width: 50px; height: 50px;background-color: rgb(0, 0, 0);\"></td><td title=\"Index: [5, 3]&#10;Color: (0, 0, 0)\" style=\"width: 50px; height: 50px;background-color: rgb(0, 0, 0);\"></td></tr><tr><td title=\"Index: [0, 4]&#10;Color: (153, 0, 0)\" style=\"width: 50px; height: 50px;background-color: rgb(153, 0, 0);\"></td><td title=\"Index: [1, 4]&#10;Color: (153, 0, 0)\" style=\"width: 50px; height: 50px;background-color: rgb(153, 0, 0);\"></td><td title=\"Index: [2, 4]&#10;Color: (153, 0, 0)\" style=\"width: 50px; height: 50px;background-color: rgb(153, 0, 0);\"></td><td title=\"Index: [3, 4]&#10;Color: (0, 0, 0)\" style=\"width: 50px; height: 50px;background-color: rgb(0, 0, 0);\"></td><td title=\"Index: [4, 4]&#10;Color: (153, 0, 0)\" style=\"width: 50px; height: 50px;background-color: rgb(153, 0, 0);\"></td><td title=\"Index: [5, 4]&#10;Color: (153, 0, 0)\" style=\"width: 50px; height: 50px;background-color: rgb(153, 0, 0);\"></td></tr><tr><td title=\"Index: [0, 5]&#10;Color: (153, 0, 0)\" style=\"width: 50px; height: 50px;background-color: rgb(153, 0, 0);\"></td><td title=\"Index: [1, 5]&#10;Color: (0, 0, 0)\" style=\"width: 50px; height: 50px;background-color: rgb(0, 0, 0);\"></td><td title=\"Index: [2, 5]&#10;Color: (0, 0, 0)\" style=\"width: 50px; height: 50px;background-color: rgb(0, 0, 0);\"></td><td title=\"Index: [3, 5]&#10;Color: (0, 0, 0)\" style=\"width: 50px; height: 50px;background-color: rgb(0, 0, 0);\"></td><td title=\"Index: [4, 5]&#10;Color: (0, 0, 0)\" style=\"width: 50px; height: 50px;background-color: rgb(0, 0, 0);\"></td><td title=\"Index: [5, 5]&#10;Color: (0, 0, 0)\" style=\"width: 50px; height: 50px;background-color: rgb(0, 0, 0);\"></td></tr><tr><td title=\"Index: [0, 6]&#10;Color: (153, 0, 0)\" style=\"width: 50px; height: 50px;background-color: rgb(153, 0, 0);\"></td><td title=\"Index: [1, 6]&#10;Color: (0, 0, 0)\" style=\"width: 50px; height: 50px;background-color: rgb(0, 0, 0);\"></td><td title=\"Index: [2, 6]&#10;Color: (153, 0, 0)\" style=\"width: 50px; height: 50px;background-color: rgb(153, 0, 0);\"></td><td title=\"Index: [3, 6]&#10;Color: (153, 0, 0)\" style=\"width: 50px; height: 50px;background-color: rgb(153, 0, 0);\"></td><td title=\"Index: [4, 6]&#10;Color: (0, 0, 0)\" style=\"width: 50px; height: 50px;background-color: rgb(0, 0, 0);\"></td><td title=\"Index: [5, 6]&#10;Color: (0, 0, 0)\" style=\"width: 50px; height: 50px;background-color: rgb(0, 0, 0);\"></td></tr><tr><td title=\"Index: [0, 7]&#10;Color: (0, 0, 0)\" style=\"width: 50px; height: 50px;background-color: rgb(0, 0, 0);\"></td><td title=\"Index: [1, 7]&#10;Color: (0, 0, 0)\" style=\"width: 50px; height: 50px;background-color: rgb(0, 0, 0);\"></td><td title=\"Index: [2, 7]&#10;Color: (0, 0, 0)\" style=\"width: 50px; height: 50px;background-color: rgb(0, 0, 0);\"></td><td title=\"Index: [3, 7]&#10;Color: (153, 0, 0)\" style=\"width: 50px; height: 50px;background-color: rgb(153, 0, 0);\"></td><td title=\"Index: [4, 7]&#10;Color: (0, 0, 0)\" style=\"width: 50px; height: 50px;background-color: rgb(0, 0, 0);\"></td><td title=\"Index: [5, 7]&#10;Color: (0, 0, 0)\" style=\"width: 50px; height: 50px;background-color: rgb(0, 0, 0);\"></td></tr></tbody></table>"
      ],
      "text/plain": [
       "<ipythonblocks.ipythonblocks.ImageGrid at 0x9b8a8b0>"
      ]
     },
     "execution_count": 9,
     "metadata": {},
     "output_type": "execute_result"
    }
   ],
   "source": [
    "mygrid = init_map_grid('cubicles.txt', start_pos)\n",
    "mygrid"
   ]
  },
  {
   "cell_type": "code",
   "execution_count": 10,
   "metadata": {},
   "outputs": [],
   "source": [
    "def makeObserved(grid, observations):\n",
    "    for position in observations:\n",
    "        grid[position[0],position[1]] = (255, 255, 255)"
   ]
  },
  {
   "cell_type": "code",
   "execution_count": 11,
   "metadata": {},
   "outputs": [
    {
     "data": {
      "text/html": [
       "<style type=\"text/css\">table.blockgrid {border: none;} .blockgrid tr {border: none;} .blockgrid td {padding: 0px;} #blocksfb870b98-ec5b-4557-af1c-2aa6371fc0b6 td {border: 1px solid white;}</style><table id=\"blocksfb870b98-ec5b-4557-af1c-2aa6371fc0b6\" class=\"blockgrid\"><tbody><tr><td title=\"Index: [0, 0]&#10;Color: (0, 0, 255)\" style=\"width: 50px; height: 50px;background-color: rgb(0, 0, 255);\"></td><td title=\"Index: [1, 0]&#10;Color: (255, 255, 255)\" style=\"width: 50px; height: 50px;background-color: rgb(255, 255, 255);\"></td><td title=\"Index: [2, 0]&#10;Color: (255, 255, 255)\" style=\"width: 50px; height: 50px;background-color: rgb(255, 255, 255);\"></td><td title=\"Index: [3, 0]&#10;Color: (255, 255, 255)\" style=\"width: 50px; height: 50px;background-color: rgb(255, 255, 255);\"></td><td title=\"Index: [4, 0]&#10;Color: (255, 255, 255)\" style=\"width: 50px; height: 50px;background-color: rgb(255, 255, 255);\"></td><td title=\"Index: [5, 0]&#10;Color: (153, 0, 0)\" style=\"width: 50px; height: 50px;background-color: rgb(153, 0, 0);\"></td></tr><tr><td title=\"Index: [0, 1]&#10;Color: (255, 255, 255)\" style=\"width: 50px; height: 50px;background-color: rgb(255, 255, 255);\"></td><td title=\"Index: [1, 1]&#10;Color: (153, 0, 0)\" style=\"width: 50px; height: 50px;background-color: rgb(153, 0, 0);\"></td><td title=\"Index: [2, 1]&#10;Color: (0, 0, 0)\" style=\"width: 50px; height: 50px;background-color: rgb(0, 0, 0);\"></td><td title=\"Index: [3, 1]&#10;Color: (0, 0, 0)\" style=\"width: 50px; height: 50px;background-color: rgb(0, 0, 0);\"></td><td title=\"Index: [4, 1]&#10;Color: (0, 0, 0)\" style=\"width: 50px; height: 50px;background-color: rgb(0, 0, 0);\"></td><td title=\"Index: [5, 1]&#10;Color: (153, 0, 0)\" style=\"width: 50px; height: 50px;background-color: rgb(153, 0, 0);\"></td></tr><tr><td title=\"Index: [0, 2]&#10;Color: (255, 255, 255)\" style=\"width: 50px; height: 50px;background-color: rgb(255, 255, 255);\"></td><td title=\"Index: [1, 2]&#10;Color: (153, 0, 0)\" style=\"width: 50px; height: 50px;background-color: rgb(153, 0, 0);\"></td><td title=\"Index: [2, 2]&#10;Color: (153, 0, 0)\" style=\"width: 50px; height: 50px;background-color: rgb(153, 0, 0);\"></td><td title=\"Index: [3, 2]&#10;Color: (0, 0, 0)\" style=\"width: 50px; height: 50px;background-color: rgb(0, 0, 0);\"></td><td title=\"Index: [4, 2]&#10;Color: (153, 0, 0)\" style=\"width: 50px; height: 50px;background-color: rgb(153, 0, 0);\"></td><td title=\"Index: [5, 2]&#10;Color: (153, 0, 0)\" style=\"width: 50px; height: 50px;background-color: rgb(153, 0, 0);\"></td></tr><tr><td title=\"Index: [0, 3]&#10;Color: (255, 255, 255)\" style=\"width: 50px; height: 50px;background-color: rgb(255, 255, 255);\"></td><td title=\"Index: [1, 3]&#10;Color: (0, 0, 0)\" style=\"width: 50px; height: 50px;background-color: rgb(0, 0, 0);\"></td><td title=\"Index: [2, 3]&#10;Color: (0, 0, 0)\" style=\"width: 50px; height: 50px;background-color: rgb(0, 0, 0);\"></td><td title=\"Index: [3, 3]&#10;Color: (0, 0, 0)\" style=\"width: 50px; height: 50px;background-color: rgb(0, 0, 0);\"></td><td title=\"Index: [4, 3]&#10;Color: (0, 0, 0)\" style=\"width: 50px; height: 50px;background-color: rgb(0, 0, 0);\"></td><td title=\"Index: [5, 3]&#10;Color: (0, 0, 0)\" style=\"width: 50px; height: 50px;background-color: rgb(0, 0, 0);\"></td></tr><tr><td title=\"Index: [0, 4]&#10;Color: (153, 0, 0)\" style=\"width: 50px; height: 50px;background-color: rgb(153, 0, 0);\"></td><td title=\"Index: [1, 4]&#10;Color: (153, 0, 0)\" style=\"width: 50px; height: 50px;background-color: rgb(153, 0, 0);\"></td><td title=\"Index: [2, 4]&#10;Color: (153, 0, 0)\" style=\"width: 50px; height: 50px;background-color: rgb(153, 0, 0);\"></td><td title=\"Index: [3, 4]&#10;Color: (0, 0, 0)\" style=\"width: 50px; height: 50px;background-color: rgb(0, 0, 0);\"></td><td title=\"Index: [4, 4]&#10;Color: (153, 0, 0)\" style=\"width: 50px; height: 50px;background-color: rgb(153, 0, 0);\"></td><td title=\"Index: [5, 4]&#10;Color: (153, 0, 0)\" style=\"width: 50px; height: 50px;background-color: rgb(153, 0, 0);\"></td></tr><tr><td title=\"Index: [0, 5]&#10;Color: (153, 0, 0)\" style=\"width: 50px; height: 50px;background-color: rgb(153, 0, 0);\"></td><td title=\"Index: [1, 5]&#10;Color: (0, 0, 0)\" style=\"width: 50px; height: 50px;background-color: rgb(0, 0, 0);\"></td><td title=\"Index: [2, 5]&#10;Color: (0, 0, 0)\" style=\"width: 50px; height: 50px;background-color: rgb(0, 0, 0);\"></td><td title=\"Index: [3, 5]&#10;Color: (0, 0, 0)\" style=\"width: 50px; height: 50px;background-color: rgb(0, 0, 0);\"></td><td title=\"Index: [4, 5]&#10;Color: (0, 0, 0)\" style=\"width: 50px; height: 50px;background-color: rgb(0, 0, 0);\"></td><td title=\"Index: [5, 5]&#10;Color: (0, 0, 0)\" style=\"width: 50px; height: 50px;background-color: rgb(0, 0, 0);\"></td></tr><tr><td title=\"Index: [0, 6]&#10;Color: (153, 0, 0)\" style=\"width: 50px; height: 50px;background-color: rgb(153, 0, 0);\"></td><td title=\"Index: [1, 6]&#10;Color: (0, 0, 0)\" style=\"width: 50px; height: 50px;background-color: rgb(0, 0, 0);\"></td><td title=\"Index: [2, 6]&#10;Color: (153, 0, 0)\" style=\"width: 50px; height: 50px;background-color: rgb(153, 0, 0);\"></td><td title=\"Index: [3, 6]&#10;Color: (153, 0, 0)\" style=\"width: 50px; height: 50px;background-color: rgb(153, 0, 0);\"></td><td title=\"Index: [4, 6]&#10;Color: (0, 0, 0)\" style=\"width: 50px; height: 50px;background-color: rgb(0, 0, 0);\"></td><td title=\"Index: [5, 6]&#10;Color: (0, 0, 0)\" style=\"width: 50px; height: 50px;background-color: rgb(0, 0, 0);\"></td></tr><tr><td title=\"Index: [0, 7]&#10;Color: (0, 0, 0)\" style=\"width: 50px; height: 50px;background-color: rgb(0, 0, 0);\"></td><td title=\"Index: [1, 7]&#10;Color: (0, 0, 0)\" style=\"width: 50px; height: 50px;background-color: rgb(0, 0, 0);\"></td><td title=\"Index: [2, 7]&#10;Color: (0, 0, 0)\" style=\"width: 50px; height: 50px;background-color: rgb(0, 0, 0);\"></td><td title=\"Index: [3, 7]&#10;Color: (153, 0, 0)\" style=\"width: 50px; height: 50px;background-color: rgb(153, 0, 0);\"></td><td title=\"Index: [4, 7]&#10;Color: (0, 0, 0)\" style=\"width: 50px; height: 50px;background-color: rgb(0, 0, 0);\"></td><td title=\"Index: [5, 7]&#10;Color: (0, 0, 0)\" style=\"width: 50px; height: 50px;background-color: rgb(0, 0, 0);\"></td></tr></tbody></table>"
      ],
      "text/plain": [
       "<ipythonblocks.ipythonblocks.ImageGrid at 0x9b8a8b0>"
      ]
     },
     "execution_count": 11,
     "metadata": {},
     "output_type": "execute_result"
    }
   ],
   "source": [
    "makeObserved(mygrid, [(1,0),(2,0),(3,0),(4,0),(0,1),(0,2),(0,3)])\n",
    "mygrid"
   ]
  },
  {
   "cell_type": "code",
   "execution_count": 60,
   "metadata": {},
   "outputs": [],
   "source": [
    "def makeImage(grid, agent_location, observations, node_name):\n",
    "    for block in grid:\n",
    "        if block.rgb == (0, 0, 255):\n",
    "            block.rgb = (255, 255, 255)\n",
    "    \n",
    "    grid[agent_location[0], agent_location[1]] = (0, 0, 255)\n",
    "    \n",
    "    makeObserved(grid, observations)\n",
    "    \n",
    "    grid.save_image(node_name + '.png')"
   ]
  },
  {
   "cell_type": "code",
   "execution_count": 52,
   "metadata": {},
   "outputs": [],
   "source": [
    "def updateGrid(grid, agent_location, observations, node_name):\n",
    "    for block in grid:\n",
    "        if block.rgb == (0, 0, 255):\n",
    "            block.rgb = (255, 255, 255)\n",
    "    \n",
    "    grid[agent_location[0], agent_location[1]] = (0, 0, 255)\n",
    "    \n",
    "    makeObserved(grid, observations)"
   ]
  }
 ],
 "metadata": {
  "kernelspec": {
   "display_name": "Python 3",
   "language": "python",
   "name": "python3"
  },
  "language_info": {
   "codemirror_mode": {
    "name": "ipython",
    "version": 3
   },
   "file_extension": ".py",
   "mimetype": "text/x-python",
   "name": "python",
   "nbconvert_exporter": "python",
   "pygments_lexer": "ipython3",
   "version": "3.7.3"
  }
 },
 "nbformat": 4,
 "nbformat_minor": 2
}
