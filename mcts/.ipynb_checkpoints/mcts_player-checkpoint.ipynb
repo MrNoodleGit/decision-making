{
 "cells": [
  {
   "cell_type": "code",
   "execution_count": 1,
   "metadata": {},
   "outputs": [],
   "source": [
    "import networkx as nx\n",
    "from random import randrange\n",
    "from math import sqrt, log, inf\n",
    "\n",
    "import sys, os\n",
    "working_directory = 'C:\\\\Users\\\\ronal\\\\Documents\\\\GitHub\\\\decision-making\\\\'\n",
    "# Append path where graph_builder.py is saved\n",
    "sys.path.append(working_directory + 'graph_builder')\n",
    "from graph_builder import *\n",
    "\n",
    "file_names = os.listdir(working_directory + 'path_analysis\\\\treebuilderUpdated')\n",
    "graphs = {}\n",
    "for file in file_names:\n",
    "    graphs[file.replace('.csv', '')] = build_graph(\n",
    "        working_directory + 'path_analysis\\\\treebuilderUpdated\\\\' + file)"
   ]
  },
  {
   "cell_type": "code",
   "execution_count": 2,
   "metadata": {},
   "outputs": [],
   "source": [
    "from mcts import UCTSearch"
   ]
  },
  {
   "cell_type": "code",
   "execution_count": 3,
   "metadata": {},
   "outputs": [],
   "source": [
    "G = graphs['courtyard'].copy()"
   ]
  },
  {
   "cell_type": "code",
   "execution_count": 23,
   "metadata": {},
   "outputs": [],
   "source": [
    "my_search = UCTSearch(G)\n",
    "\n",
    "my_search.run('N6609', 20)"
   ]
  },
  {
   "cell_type": "code",
   "execution_count": null,
   "metadata": {},
   "outputs": [],
   "source": [
    "nx.get_node_attributes(my_search.tree, 'path_value')"
   ]
  },
  {
   "cell_type": "code",
   "execution_count": 25,
   "metadata": {},
   "outputs": [
    {
     "data": {
      "text/plain": [
       "{'N6609': False,\n",
       " 'N2554': False,\n",
       " 'N2200': False,\n",
       " 'N6588': False,\n",
       " 'N5553': False,\n",
       " 'N6173': False,\n",
       " 'N7822': False,\n",
       " 'N3405': False,\n",
       " 'N5323': False}"
      ]
     },
     "execution_count": 25,
     "metadata": {},
     "output_type": "execute_result"
    }
   ],
   "source": [
    "nx.get_node_attributes(my_search.tree, 'visited')"
   ]
  },
  {
   "cell_type": "code",
   "execution_count": 29,
   "metadata": {},
   "outputs": [
    {
     "data": {
      "text/plain": [
       "{'N6609': 3.411622241452476,\n",
       " 'N2554': 1.3287390739946272,\n",
       " 'N2200': 1.6781523150134325,\n",
       " 'N6588': 0.8094617048888322,\n",
       " 'N5553': 0.2596386845528975,\n",
       " 'N6173': 1.342521852010746,\n",
       " 'N7822': 0.4047308524444161,\n",
       " 'N3405': 0,\n",
       " 'N5323': 1.0068913890080595}"
      ]
     },
     "execution_count": 29,
     "metadata": {},
     "output_type": "execute_result"
    }
   ],
   "source": [
    "nx.get_node_attributes(my_search.tree, 'total_sim_reward')"
   ]
  }
 ],
 "metadata": {
  "kernelspec": {
   "display_name": "Python 3",
   "language": "python",
   "name": "python3"
  },
  "language_info": {
   "codemirror_mode": {
    "name": "ipython",
    "version": 3
   },
   "file_extension": ".py",
   "mimetype": "text/x-python",
   "name": "python",
   "nbconvert_exporter": "python",
   "pygments_lexer": "ipython3",
   "version": "3.7.3"
  }
 },
 "nbformat": 4,
 "nbformat_minor": 2
}
