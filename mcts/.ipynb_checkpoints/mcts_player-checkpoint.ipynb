{
 "cells": [
  {
   "cell_type": "code",
   "execution_count": 1,
   "metadata": {},
   "outputs": [],
   "source": [
    "import networkx as nx\n",
    "from random import randrange\n",
    "from math import sqrt, log, inf\n",
    "import numpy as np\n",
    "\n",
    "import sys, os\n",
    "working_directory = 'C:\\\\Users\\\\ronal\\\\Documents\\\\GitHub\\\\decision-making\\\\'\n",
    "# Append path where graph_builder.py is saved\n",
    "sys.path.append(working_directory + 'graph_builder')\n",
    "from graph_builder import *\n",
    "\n",
    "file_names = os.listdir(working_directory + 'path_analysis\\\\treebuilderUpdated')\n",
    "graphs = {}\n",
    "for file in file_names:\n",
    "    graphs[file.replace('.csv', '')] = build_graph(\n",
    "        working_directory + 'path_analysis\\\\treebuilderUpdated\\\\' + file)"
   ]
  },
  {
   "cell_type": "code",
   "execution_count": 2,
   "metadata": {},
   "outputs": [],
   "source": [
    "from mcts import UCTSearch"
   ]
  },
  {
   "cell_type": "code",
   "execution_count": 13,
   "metadata": {},
   "outputs": [],
   "source": [
    "search_algorithm = UCTSearch(graphs['library'])"
   ]
  },
  {
   "cell_type": "code",
   "execution_count": 22,
   "metadata": {},
   "outputs": [
    {
     "name": "stdout",
     "output_type": "stream",
     "text": [
      "1\n",
      "1\n",
      "2\n",
      "1\n",
      "1\n"
     ]
    },
    {
     "data": {
      "text/plain": [
       "{'N4422': 0.1098687936500163, 'N500': 0.1079745115508444}"
      ]
     },
     "execution_count": 22,
     "metadata": {},
     "output_type": "execute_result"
    }
   ],
   "source": [
    "search_algorithm.generate_target_path(['N3151', 'N8688', 'N1452', 'N8106', 'N3650', 'N4693'])[-1][-1]"
   ]
  },
  {
   "cell_type": "markdown",
   "metadata": {},
   "source": [
    "## Add MCTS choice values to probabilities_to_values.csv"
   ]
  },
  {
   "cell_type": "code",
   "execution_count": 15,
   "metadata": {},
   "outputs": [],
   "source": [
    "def parse_prob_data(data_file):\n",
    "    prob_data_frame = pd.read_csv(data_file, sep='\\t')\n",
    "    parsed_data = []\n",
    "    \n",
    "    for row in prob_data_frame.itertuples(index=False):\n",
    "        parsed_data.append(row)\n",
    "    \n",
    "    return parsed_data"
   ]
  },
  {
   "cell_type": "code",
   "execution_count": null,
   "metadata": {},
   "outputs": [],
   "source": [
    "parsed_data = parse_prob_data('..//path_analysis/probabilities_to_values.csv')"
   ]
  },
  {
   "cell_type": "code",
   "execution_count": null,
   "metadata": {},
   "outputs": [],
   "source": [
    "def analyze_prob_data(parsed_data):\n",
    "    input_data = deepcopy(parsed_data)\n",
    "    output_data = []\n",
    "    \n",
    "    for row in input_data: # Analyze path that each subject followed\n",
    "        MCTS_value_choices = ['None', 'None', 'None', 'None']\n",
    "        graph_name = row[0]\n",
    "        input_path = row[6].split(',')\n",
    "        \n",
    "        search_algorithm = UCTSearch(graphs[graph_name])\n",
    "        value_choices_dict = search_algorithm.generate_target_path(input_path)[-1][-1]\n",
    "        \n",
    "        for successor in value_choices_dict:\n",
    "            index = search_algorithm.tree.nodes[successor]['choice_direction']\n",
    "            \n",
    "            MCTS_value_choices[index] = value_choices_dict[successor]\n",
    "        \n",
    "        row.extend(MCTS_value_choices)\n",
    "        \n",
    "        output_data.append(row)\n",
    "\n",
    "    print(f'{len(input_data)} paths analyzed')\n",
    "    \n",
    "    return output_data"
   ]
  },
  {
   "cell_type": "code",
   "execution_count": null,
   "metadata": {},
   "outputs": [],
   "source": [
    "output_data = analyze_prob_data(parsed_data)"
   ]
  },
  {
   "cell_type": "code",
   "execution_count": null,
   "metadata": {},
   "outputs": [],
   "source": [
    "# Export probability analysis as csv\n",
    "def export_prob_results(output_data):\n",
    "    column_titles = ['world', 'path', 'probL', 'probR', 'probU', 'probD', \n",
    "                     'subject_node_path', 'ideal_value_L', 'ideal_value_R', \n",
    "                     'ideal_value_U', 'ideal_value_D', 'MCTS_value_L',\n",
    "                    'MCTS_value_R', 'MCTS_value_U', 'MCTS_value_D']\n",
    "\n",
    "    with open('probabilities_to_values_with_MCTS.csv', 'w', newline='') as file:\n",
    "        file_writer = csv.writer(file, delimiter='\\t')\n",
    "        file_writer.writerow(column_titles)\n",
    "\n",
    "        for row in output_data:\n",
    "            file_writer.writerow(row)"
   ]
  },
  {
   "cell_type": "code",
   "execution_count": null,
   "metadata": {},
   "outputs": [],
   "source": [
    "export_prob_results(output_data)"
   ]
  }
 ],
 "metadata": {
  "kernelspec": {
   "display_name": "Python 3",
   "language": "python",
   "name": "python3"
  },
  "language_info": {
   "codemirror_mode": {
    "name": "ipython",
    "version": 3
   },
   "file_extension": ".py",
   "mimetype": "text/x-python",
   "name": "python",
   "nbconvert_exporter": "python",
   "pygments_lexer": "ipython3",
   "version": "3.7.3"
  }
 },
 "nbformat": 4,
 "nbformat_minor": 2
}
