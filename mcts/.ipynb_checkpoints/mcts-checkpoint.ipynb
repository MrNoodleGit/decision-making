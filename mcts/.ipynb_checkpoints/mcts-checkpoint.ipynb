{
 "cells": [
  {
   "cell_type": "code",
   "execution_count": 40,
   "metadata": {},
   "outputs": [],
   "source": [
    "import networkx as nx\n",
    "from random import randrange\n",
    "from math import sqrt, log, inf\n",
    "\n",
    "import sys, os\n",
    "working_directory = 'C:\\\\Users\\\\ronal\\\\Documents\\\\GitHub\\\\decision-making\\\\'\n",
    "# Append path where graph_builder.py is saved\n",
    "sys.path.append(working_directory + 'graph_builder')\n",
    "from graph_builder import *\n",
    "\n",
    "file_names = os.listdir(working_directory + 'path_analysis\\\\treebuilderUpdated')\n",
    "graphs = {}\n",
    "for file in file_names:\n",
    "    graphs[file.replace('.csv', '')] = build_graph(\n",
    "        working_directory + 'path_analysis\\\\treebuilderUpdated\\\\' + file)"
   ]
  },
  {
   "cell_type": "code",
   "execution_count": 169,
   "metadata": {},
   "outputs": [],
   "source": [
    "G = graphs['courtyard'].copy()"
   ]
  },
  {
   "cell_type": "code",
   "execution_count": 357,
   "metadata": {},
   "outputs": [],
   "source": [
    "class UCTSearch():\n",
    "    def __init__(self, tree):\n",
    "        self.tree = tree.copy()\n",
    "        self.exploration_constant = 1 / sqrt(2)\n",
    "        \n",
    "        # Initialize node statistics\n",
    "        nx.set_node_attributes(self.tree, 0, 'visit_count')\n",
    "        nx.set_node_attributes(self.tree, 0, 'total_sim_reward')\n",
    "        nx.set_node_attributes(self.tree, False, 'visited')\n",
    "        \n",
    "        \n",
    "    def run(self, root_node): # DONE\n",
    "        i = 0\n",
    "        leaf_node = root_node\n",
    "\n",
    "        while i < 1:\n",
    "            reward = self.default_policy(leaf_node)\n",
    "            self.backup(leaf_node, reward)\n",
    "            leaf_node = self.tree_policy(root_node)\n",
    "            \n",
    "            i += 1\n",
    "            \n",
    "        return self.best_child(root_node, 0)\n",
    "        \n",
    "    def tree_policy(self, node): # DONE\n",
    "        while self.num_successors(node) != 0:\n",
    "            if self.fully_expanded(node) is False:\n",
    "                \n",
    "                return self.expand(node)\n",
    "            \n",
    "            else:\n",
    "                node = self.best_child(node, self.exploration_constant)\n",
    "                \n",
    "        return node\n",
    "    \n",
    "    def default_policy(self, leaf_node): # DONE\n",
    "        sim_node = leaf_node\n",
    "        self.tree.nodes[sim_node]['visited'] = True\n",
    "        \n",
    "        while self.terminal(sim_node) is False:\n",
    "            num_of_successors = self.num_successors(sim_node)\n",
    "            sim_node = self.get_successors(sim_node, index=randrange(num_of_successors))\n",
    "            \n",
    "        return self.get_terminal_value(sim_node)\n",
    "    \n",
    "    def backup(self, node, reward): # DONE\n",
    "        while True:\n",
    "            self.tree.nodes[node]['visit_count'] += 1\n",
    "            self.tree.nodes[node]['total_sim_reward'] += reward\n",
    "            \n",
    "            if self.num_predecessors(node) == 0:\n",
    "                break\n",
    "                \n",
    "            node = self.get_predecessors(node, 0)\n",
    "            \n",
    "    \n",
    "    def best_child(self, node, exploration_constant): # DONE\n",
    "        children = self.get_successors(node)\n",
    "        \n",
    "        ucb_comparison_dict = {child: self.ucb(node, child, exploration_constant) for child in children}\n",
    "\n",
    "        best_child = max(ucb_comparison_dict, key=lambda x: ucb_comparison_dict[x])\n",
    "\n",
    "        return best_child\n",
    "    \n",
    "    def expand(self, node):# DONE\n",
    "        unvisited_children = [child for child in self.get_successors(node) if self.visited(child) is False]\n",
    "        num_unvisited = len(unvisited_children)\n",
    "\n",
    "        child_to_expand = unvisited_children[randrange(num_unvisited)]\n",
    "\n",
    "        return child_to_expand\n",
    "    \n",
    "    \n",
    "    \n",
    "    ## HELPER METHODS\n",
    "    def num_successors(self, node):\n",
    "        num_of_successors = len(list(self.tree.successors(node)))\n",
    "\n",
    "        return num_of_successors\n",
    "    \n",
    "    def get_successors(self, node, index=None):\n",
    "        '''Returns list of successors. If given an index, \n",
    "        returns the successor with that index in the list.'''\n",
    "        if index is None:\n",
    "            return list(self.tree.successors(node))\n",
    "\n",
    "        else:\n",
    "            return list(self.tree.successors(node))[index]\n",
    "        \n",
    "    def num_predecessors(self, node):\n",
    "        num_of_predecessors = len(list(self.tree.predecessors(node)))\n",
    "\n",
    "        return num_of_predecessors\n",
    "        \n",
    "    def get_predecessors(self, node, index=None):\n",
    "        '''Returns list of predecessors. If given an index, \n",
    "        returns the predecessor with that index in the list.'''\n",
    "        if index is None:\n",
    "            return list(self.tree.predecessors(node))\n",
    "\n",
    "        else:\n",
    "            return list(self.tree.predecessors(node))[index]\n",
    "        \n",
    "    def get_terminal_value(self, terminal_node):\n",
    "    \n",
    "        path_value = self.tree.nodes[terminal_node]['path_value']\n",
    "\n",
    "        return path_value\n",
    "    \n",
    "    def terminal(self, node):\n",
    "        if self.tree.out_degree(node) == 0:\n",
    "            return True\n",
    "        else:\n",
    "            return False\n",
    "    \n",
    "    def fully_expanded(self, node):\n",
    "        children_visited_status = (self.visited(child) for child in self.get_successors(node))\n",
    "        \n",
    "        if False in children_visited_status:\n",
    "            return False\n",
    "        \n",
    "        else:\n",
    "            return True\n",
    "\n",
    "    def visited(self, node):\n",
    "        if self.tree.nodes[node]['visited'] is True:\n",
    "            return True\n",
    "\n",
    "        else:\n",
    "            return False\n",
    "    \n",
    "    def ucb(self, node, child, exploration_constant):\n",
    "        child_total_sim_reward = self.tree.nodes[child]['total_sim_reward']\n",
    "        child_visit_count = self.tree.nodes[child]['visit_count']\n",
    "        node_visit_count = self.tree.nodes[node]['visit_count']\n",
    "\n",
    "        try:\n",
    "            ucb_value = ((child_total_sim_reward / child_visit_count) + \n",
    "            (exploration_constant * sqrt((2 * log(node_visit_count)) / child_visit_count)))\n",
    "\n",
    "        except ZeroDivisionError:\n",
    "            return inf\n",
    "\n",
    "        return ucb_value"
   ]
  },
  {
   "cell_type": "code",
   "execution_count": 358,
   "metadata": {},
   "outputs": [],
   "source": [
    "my_search = UCTSearch(G)"
   ]
  },
  {
   "cell_type": "code",
   "execution_count": 361,
   "metadata": {},
   "outputs": [
    {
     "data": {
      "text/plain": [
       "'N2554'"
      ]
     },
     "execution_count": 361,
     "metadata": {},
     "output_type": "execute_result"
    }
   ],
   "source": [
    "my_search.run('N6609')"
   ]
  },
  {
   "cell_type": "code",
   "execution_count": 363,
   "metadata": {},
   "outputs": [
    {
     "data": {
      "text/plain": [
       "{'N6609': True,\n",
       " 'N2554': True,\n",
       " 'N2200': True,\n",
       " 'N6588': True,\n",
       " 'N5553': True,\n",
       " 'N6173': True,\n",
       " 'N7822': False,\n",
       " 'N3405': True,\n",
       " 'N5323': False}"
      ]
     },
     "execution_count": 363,
     "metadata": {},
     "output_type": "execute_result"
    }
   ],
   "source": [
    "nx.get_node_attributes(my_search.tree, 'visited')"
   ]
  },
  {
   "cell_type": "code",
   "execution_count": null,
   "metadata": {},
   "outputs": [],
   "source": [
    "def min_max_scaling(value_list):\n",
    "    x_max = max(value_list)\n",
    "    x_min = min(value_list)\n",
    "    \n",
    "    normalized_values = []\n",
    "    \n",
    "    for x in value_list:\n",
    "        x_prime = (x - x_min) / (x_max - x_min)\n",
    "        \n",
    "        normalized_values.append(x_prime)\n",
    "        \n",
    "    return normalized_values"
   ]
  },
  {
   "cell_type": "code",
   "execution_count": null,
   "metadata": {},
   "outputs": [],
   "source": [
    "[G.nodes[node]['path_value'] for node in G.nodes() if len(list(G.successors(node))) == 0]"
   ]
  },
  {
   "cell_type": "code",
   "execution_count": null,
   "metadata": {},
   "outputs": [],
   "source": [
    "min_max_scaling(value_list)"
   ]
  },
  {
   "cell_type": "code",
   "execution_count": null,
   "metadata": {},
   "outputs": [],
   "source": [
    "[value / sum(value_list) for value in value_list]"
   ]
  }
 ],
 "metadata": {
  "kernelspec": {
   "display_name": "Python 3",
   "language": "python",
   "name": "python3"
  },
  "language_info": {
   "codemirror_mode": {
    "name": "ipython",
    "version": 3
   },
   "file_extension": ".py",
   "mimetype": "text/x-python",
   "name": "python",
   "nbconvert_exporter": "python",
   "pygments_lexer": "ipython3",
   "version": "3.7.3"
  }
 },
 "nbformat": 4,
 "nbformat_minor": 2
}
