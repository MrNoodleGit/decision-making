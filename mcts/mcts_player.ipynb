{
 "cells": [
  {
   "cell_type": "code",
   "execution_count": 1,
   "metadata": {},
   "outputs": [],
   "source": [
    "import networkx as nx\n",
    "from random import randrange\n",
    "from math import sqrt, log, inf\n",
    "import numpy as np\n",
    "\n",
    "import sys, os\n",
    "working_directory = 'C:\\\\Users\\\\ronal\\\\Documents\\\\GitHub\\\\decision-making\\\\'\n",
    "# Append path where graph_builder.py is saved\n",
    "sys.path.append(working_directory + 'graph_builder')\n",
    "from graph_builder import *\n",
    "\n",
    "file_names = os.listdir(working_directory + 'path_analysis\\\\treebuilderUpdated')\n",
    "graphs = {}\n",
    "for file in file_names:\n",
    "    graphs[file.replace('.csv', '')] = build_graph(\n",
    "        working_directory + 'path_analysis\\\\treebuilderUpdated\\\\' + file)"
   ]
  },
  {
   "cell_type": "code",
   "execution_count": 2,
   "metadata": {},
   "outputs": [],
   "source": [
    "from mcts import UCTSearch"
   ]
  },
  {
   "cell_type": "code",
   "execution_count": 3,
   "metadata": {},
   "outputs": [],
   "source": [
    "search_algorithm = UCTSearch(graphs['lab'])"
   ]
  },
  {
   "cell_type": "code",
   "execution_count": 4,
   "metadata": {},
   "outputs": [
    {
     "name": "stdout",
     "output_type": "stream",
     "text": [
      "1\n",
      "1\n",
      "4\n",
      "500\n",
      "500\n",
      "3\n",
      "2\n",
      "2\n"
     ]
    },
    {
     "data": {
      "text/plain": [
       "(['N2360',\n",
       "  'N7986',\n",
       "  'N3386',\n",
       "  'N6048',\n",
       "  'N8850',\n",
       "  'N9202',\n",
       "  'N2181',\n",
       "  'N9071',\n",
       "  'N1644'],\n",
       " [{'N7986': 0.004339888471508091},\n",
       "  {'N3386': 0.0038459171319402013},\n",
       "  {'N6048': 0.004339888471508091,\n",
       "   'N4497': 0.004161710914034997,\n",
       "   'N198': 0.004165246949331142},\n",
       "  {'N6065': 0.005141417208382352, 'N8850': 0.004583901632326545},\n",
       "  {'N2513': 0.004768793563100957,\n",
       "   'N9202': 0.004685394647324672,\n",
       "   'N4079': 0.0042837265090834645},\n",
       "  {'N2181': 0.0049125934102576116,\n",
       "   'N27': 0.004719047151512871,\n",
       "   'N3325': 0.0043534470830426915},\n",
       "  {'N9071': 0.00501513850708013, 'N4209': 0.00481065566673198},\n",
       "  {'N1644': 0.00505033246151578, 'N4000': 0.004944750598208829}])"
      ]
     },
     "execution_count": 4,
     "metadata": {},
     "output_type": "execute_result"
    }
   ],
   "source": [
    "search_algorithm.generate_target_path(['N2360', 'N7986', 'N3386', 'N6048', 'N8850', 'N9202', 'N2181', 'N9071', 'N1644'])"
   ]
  },
  {
   "cell_type": "code",
   "execution_count": null,
   "metadata": {},
   "outputs": [],
   "source": [
    "nx.get_node_attributes(my_search.tree, 'path_value')"
   ]
  },
  {
   "cell_type": "code",
   "execution_count": null,
   "metadata": {},
   "outputs": [],
   "source": [
    "nx.get_node_attributes(search_algorithm.tree, 'visited')"
   ]
  },
  {
   "cell_type": "code",
   "execution_count": null,
   "metadata": {},
   "outputs": [],
   "source": [
    "nx.get_node_attributes(my_search.tree, 'terminal_value')"
   ]
  },
  {
   "cell_type": "code",
   "execution_count": null,
   "metadata": {},
   "outputs": [],
   "source": [
    "nx.get_node_attributes(my_search.tree, 'visit_count')"
   ]
  },
  {
   "cell_type": "code",
   "execution_count": null,
   "metadata": {},
   "outputs": [],
   "source": [
    "iteration_values = np.geomspace(1, 100, num=10, dtype='int16')"
   ]
  },
  {
   "cell_type": "code",
   "execution_count": null,
   "metadata": {},
   "outputs": [],
   "source": [
    "iteration_values"
   ]
  }
 ],
 "metadata": {
  "kernelspec": {
   "display_name": "Python 3",
   "language": "python",
   "name": "python3"
  },
  "language_info": {
   "codemirror_mode": {
    "name": "ipython",
    "version": 3
   },
   "file_extension": ".py",
   "mimetype": "text/x-python",
   "name": "python",
   "nbconvert_exporter": "python",
   "pygments_lexer": "ipython3",
   "version": "3.7.3"
  }
 },
 "nbformat": 4,
 "nbformat_minor": 2
}
