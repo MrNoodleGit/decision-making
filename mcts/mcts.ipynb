{
 "cells": [
  {
   "cell_type": "code",
   "execution_count": 1,
   "metadata": {},
   "outputs": [],
   "source": [
    "import networkx as nx\n",
    "from random import randrange\n",
    "from math import sqrt, log, inf\n",
    "\n",
    "import sys, os\n",
    "working_directory = 'C:\\\\Users\\\\ronal\\\\Documents\\\\GitHub\\\\decision-making\\\\'\n",
    "# Append path where graph_builder.py is saved\n",
    "sys.path.append(working_directory + 'graph_builder')\n",
    "from graph_builder import *\n",
    "\n",
    "file_names = os.listdir(working_directory + 'path_analysis\\\\treebuilderUpdated')\n",
    "graphs = {}\n",
    "for file in file_names:\n",
    "    graphs[file.replace('.csv', '')] = build_graph(\n",
    "        working_directory + 'path_analysis\\\\treebuilderUpdated\\\\' + file)"
   ]
  },
  {
   "cell_type": "code",
   "execution_count": 2,
   "metadata": {},
   "outputs": [],
   "source": [
    "from mcts import UCTSearch"
   ]
  },
  {
   "cell_type": "code",
   "execution_count": 3,
   "metadata": {},
   "outputs": [],
   "source": [
    "G = graphs['cathedral'].copy()"
   ]
  },
  {
   "cell_type": "code",
   "execution_count": 4,
   "metadata": {},
   "outputs": [
    {
     "name": "stdout",
     "output_type": "stream",
     "text": [
      "['N1104', 'N2825', 'N8121', 'N589', 'N9196', 'N8178', 'N2509']\n",
      "[{'N2825': 0.16057190815607544}, {'N8121': 0.16474562649525276}, {'N589': 0.16848700599806504, 'N8139': 0.1627813194729904}, {'N7314': 0.1657516385739288, 'N9196': 0.1745424348727593}, {'N8178': 0.17649481261124925, 'N6670': 0.16868530165728948}, {'N2509': 0.17649481261124927}]\n"
     ]
    }
   ],
   "source": [
    "my_search = UCTSearch(G)\n",
    "\n",
    "node_sequence = ['N1104']\n",
    "decision_list = []\n",
    "current_node = 'N1104'\n",
    "while True:\n",
    "    current_node, comparison_dict = my_search.run(current_node, 5)\n",
    "    node_sequence.append(current_node)\n",
    "    decision_list.append(comparison_dict)\n",
    "    \n",
    "    if my_search.terminal(current_node) is True:\n",
    "        break\n",
    "\n",
    "print(node_sequence)\n",
    "print(decision_list)"
   ]
  },
  {
   "cell_type": "code",
   "execution_count": null,
   "metadata": {},
   "outputs": [],
   "source": [
    "nx.get_node_attributes(my_search.tree, 'path_value')"
   ]
  },
  {
   "cell_type": "code",
   "execution_count": null,
   "metadata": {},
   "outputs": [],
   "source": [
    "nx.get_node_attributes(my_search.tree, 'visited')"
   ]
  },
  {
   "cell_type": "code",
   "execution_count": null,
   "metadata": {},
   "outputs": [],
   "source": [
    "nx.get_node_attributes(my_search.tree, 'total_sim_reward')"
   ]
  },
  {
   "cell_type": "code",
   "execution_count": null,
   "metadata": {},
   "outputs": [],
   "source": [
    "nx.get_node_attributes(my_search.tree, 'visit_count')"
   ]
  }
 ],
 "metadata": {
  "kernelspec": {
   "display_name": "Python 3",
   "language": "python",
   "name": "python3"
  },
  "language_info": {
   "codemirror_mode": {
    "name": "ipython",
    "version": 3
   },
   "file_extension": ".py",
   "mimetype": "text/x-python",
   "name": "python",
   "nbconvert_exporter": "python",
   "pygments_lexer": "ipython3",
   "version": "3.7.3"
  }
 },
 "nbformat": 4,
 "nbformat_minor": 2
}
