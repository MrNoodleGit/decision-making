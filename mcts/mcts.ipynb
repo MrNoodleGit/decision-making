{
 "cells": [
  {
   "cell_type": "code",
   "execution_count": 2,
   "metadata": {},
   "outputs": [],
   "source": [
    "import networkx as nx\n",
    "from random import randrange\n",
    "from math import sqrt, log, inf\n",
    "\n",
    "import sys, os\n",
    "working_directory = 'C:\\\\Users\\\\ronal\\\\Documents\\\\GitHub\\\\decision-making\\\\'\n",
    "# Append path where graph_builder.py is saved\n",
    "sys.path.append(working_directory + 'graph_builder')\n",
    "from graph_builder import *\n",
    "\n",
    "file_names = os.listdir(working_directory + 'path_analysis\\\\treebuilderUpdated')\n",
    "graphs = {}\n",
    "for file in file_names:\n",
    "    graphs[file.replace('.csv', '')] = build_graph(\n",
    "        working_directory + 'path_analysis\\\\treebuilderUpdated\\\\' + file)"
   ]
  },
  {
   "cell_type": "code",
   "execution_count": 3,
   "metadata": {},
   "outputs": [],
   "source": [
    "from mcts import UCTSearch"
   ]
  },
  {
   "cell_type": "code",
   "execution_count": 4,
   "metadata": {},
   "outputs": [],
   "source": [
    "G = graphs['cathedral'].copy()"
   ]
  },
  {
   "cell_type": "code",
   "execution_count": 8,
   "metadata": {},
   "outputs": [
    {
     "name": "stdout",
     "output_type": "stream",
     "text": [
      "['N1104', 'N2825', 'N8121', 'N589', 'N9196', 'N8178', 'N2509']\n",
      "{'N2825': 0.16303190073286675}\n",
      "{'N8121': 0.16513023832382337}\n",
      "{'N589': 0.16848700599806504, 'N8139': 0.1599222444701221}\n",
      "{'N7314': 0.1657516385739288, 'N9196': 0.1745424348727593}\n",
      "{'N8178': 0.17649481261124925, 'N6670': 0.16868530165728948}\n",
      "{'N2509': 0.17649481261124927}\n"
     ]
    }
   ],
   "source": [
    "my_search = UCTSearch(G)\n",
    "\n",
    "node_sequence = ['N1104']\n",
    "decision_list = []\n",
    "current_node = 'N1104'\n",
    "while True:\n",
    "    current_node, comparison_dict = my_search.run(current_node, 5)\n",
    "    node_sequence.append(current_node)\n",
    "    decision_list.append(comparison_dict)\n",
    "    \n",
    "    if my_search.terminal(current_node) is True:\n",
    "        break\n",
    "\n",
    "print(node_sequence)\n",
    "for dict in decision_list:\n",
    "    print(dict)"
   ]
  },
  {
   "cell_type": "code",
   "execution_count": null,
   "metadata": {},
   "outputs": [],
   "source": [
    "nx.get_node_attributes(my_search.tree, 'path_value')"
   ]
  },
  {
   "cell_type": "code",
   "execution_count": null,
   "metadata": {},
   "outputs": [],
   "source": [
    "nx.get_node_attributes(my_search.tree, 'visited')"
   ]
  },
  {
   "cell_type": "code",
   "execution_count": 7,
   "metadata": {},
   "outputs": [
    {
     "data": {
      "text/plain": [
       "{'N5010': 0.1657516385739288,\n",
       " 'N2509': 0.17649481261124925,\n",
       " 'N5777': 0.16868530165728948,\n",
       " 'N6201': 0.15884533135012432,\n",
       " 'N2100': 0.16868530165728948,\n",
       " 'N3666': 0.16153761415011872}"
      ]
     },
     "execution_count": 7,
     "metadata": {},
     "output_type": "execute_result"
    }
   ],
   "source": [
    "nx.get_node_attributes(my_search.tree, 'terminal_value')"
   ]
  },
  {
   "cell_type": "code",
   "execution_count": null,
   "metadata": {},
   "outputs": [],
   "source": [
    "nx.get_node_attributes(my_search.tree, 'visit_count')"
   ]
  }
 ],
 "metadata": {
  "kernelspec": {
   "display_name": "Python 3",
   "language": "python",
   "name": "python3"
  },
  "language_info": {
   "codemirror_mode": {
    "name": "ipython",
    "version": 3
   },
   "file_extension": ".py",
   "mimetype": "text/x-python",
   "name": "python",
   "nbconvert_exporter": "python",
   "pygments_lexer": "ipython3",
   "version": "3.7.3"
  }
 },
 "nbformat": 4,
 "nbformat_minor": 2
}
