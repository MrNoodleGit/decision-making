{
 "cells": [
  {
   "cell_type": "code",
   "execution_count": null,
   "metadata": {
    "scrolled": false
   },
   "outputs": [],
   "source": [
    "import csv\n",
    "\n",
    "# calculate the values of paths given world decision trees\n",
    "\n",
    "with open('squareLabelsWithRT_E2.csv') as csv_file:\n",
    "    \n",
    "    csv_reader = csv.reader(csv_file, delimiter='\\t')\n",
    "    line_count = 0\n",
    "    current_map = ''\n",
    "    \n",
    "    for row in csv_reader:\n",
    "        if line_count == 0:\n",
    "            print(f'Column names are {\", \".join(row)}')\n",
    "            line_count += 1\n",
    "        else:\n",
    "            path = row[2] # read path      \n",
    "            # print(f'\\tworld:',row[1], 'path:', path)                 # sanity check that the csv is read correctly\n",
    "                 \n",
    "                  \n",
    "            if ( len(current_map) == 0 or current_map !=  row[1]) :    # initialise world \n",
    "                  current_map = row[1]     \n",
    "                  print('reading world', current_map)\n",
    "            \n",
    "            all_steps =  path.split(\";\")  # split the path string to steps\n",
    "            all_steps.remove('')\n",
    "            current_step = all_steps[-1]\n",
    "                  \n",
    "            print ('path length:', len(all_steps)-1, 'last step:', current_step)      \n",
    "            line_count += 1\n",
    "                  \n",
    "                  \n",
    "    print(f'Read {line_count} lines.')"
   ]
  },
  {
   "cell_type": "code",
   "execution_count": 1,
   "metadata": {},
   "outputs": [],
   "source": [
    "import networkx as nx\n",
    "\n",
    "def readGraph(file_name):\n",
    "    G = nx.read_graphml(file_name)\n",
    "\n",
    "    relabel = {}\n",
    "    for node in G.nodes:\n",
    "        relabel[node] = G.nodes[node]['name']\n",
    "\n",
    "    H = nx.relabel_nodes(G,relabel)\n",
    "\n",
    "    for node in H.nodes:\n",
    "        del H.nodes[node]['SUID']\n",
    "        del H.nodes[node]['shared name']\n",
    "        del H.nodes[node]['selected']\n",
    "\n",
    "    my_edges = list(H.edges())\n",
    "\n",
    "    for edge in H.edges:\n",
    "        del H.edges[edge]['SUID']\n",
    "        del H.edges[edge]['shared name']\n",
    "        del H.edges[edge]['shared interaction']\n",
    "        del H.edges[edge]['selected']\n",
    "\n",
    "    for edge in H.edges:\n",
    "        H.edges[edge]['weight'] = H.edges[edge]['steps_from_parent']\n",
    "        \n",
    "    return H"
   ]
  },
  {
   "cell_type": "code",
   "execution_count": 2,
   "metadata": {},
   "outputs": [
    {
     "data": {
      "text/plain": [
       "NodeView(('N5323', 'N3405', 'N7822', 'N6173', 'N5553', 'N6588', 'N2200', 'N2554', 'N6609'))"
      ]
     },
     "execution_count": 2,
     "metadata": {},
     "output_type": "execute_result"
    }
   ],
   "source": [
    "G = readGraph('courtyard_updated.graphml')\n",
    "G.nodes()"
   ]
  },
  {
   "cell_type": "code",
   "execution_count": 6,
   "metadata": {},
   "outputs": [],
   "source": [
    "node_list = list(G.nodes())"
   ]
  },
  {
   "cell_type": "code",
   "execution_count": 8,
   "metadata": {},
   "outputs": [],
   "source": [
    "G.edges()\n",
    "edge_list = list(G.edges())"
   ]
  },
  {
   "cell_type": "code",
   "execution_count": 183,
   "metadata": {},
   "outputs": [
    {
     "data": {
      "text/plain": [
       "{'name': 'N5323',\n",
       " 'nodeLocation': '(3,2)',\n",
       " 'depth': 3,\n",
       " 'new_observations': 2.0,\n",
       " 'steps_from_root': 9,\n",
       " 'isLeaf': True,\n",
       " 'nodeValue': 8.2,\n",
       " 'nodeEP': 2,\n",
       " 'blackremains': 0}"
      ]
     },
     "execution_count": 183,
     "metadata": {},
     "output_type": "execute_result"
    }
   ],
   "source": [
    "G.nodes[node_list[0]]"
   ]
  },
  {
   "cell_type": "markdown",
   "metadata": {},
   "source": [
    "## We begin to write the path analysis program"
   ]
  },
  {
   "cell_type": "code",
   "execution_count": 67,
   "metadata": {},
   "outputs": [],
   "source": [
    "# Helper function for analyzePath()\n",
    "def parsePathString(path_string):\n",
    "    a = path_string.replace('p','')\n",
    "    b = a.split(';')\n",
    "    b.remove('')\n",
    "#     e = [tuple(int(s) for s in i.split(',')) for i in d]         Useful for converting strings of tuples in real tuples\n",
    "    \n",
    "    return b"
   ]
  },
  {
   "cell_type": "code",
   "execution_count": 68,
   "metadata": {},
   "outputs": [
    {
     "data": {
      "text/plain": [
       "['(0,0)', '(1,0)', '(2,0)', '(3,0)', '(3,1)', '(3,2)']"
      ]
     },
     "execution_count": 68,
     "metadata": {},
     "output_type": "execute_result"
    }
   ],
   "source": [
    "parsePathString('p(0,0);p(1,0);p(2,0);p(3,0);p(3,1);p(3,2);')"
   ]
  },
  {
   "cell_type": "code",
   "execution_count": 34,
   "metadata": {},
   "outputs": [],
   "source": [
    "# Helper function for analyzePath()\n",
    "def initRootNode(graph):\n",
    "    for node in graph.nodes():\n",
    "        if len(list(graph.predecessors(node))) == 0:\n",
    "            return node"
   ]
  },
  {
   "cell_type": "code",
   "execution_count": 188,
   "metadata": {},
   "outputs": [],
   "source": [
    "# Helper function for analyzePath()\n",
    "def valueCalc(graph, node, steps_so_far, prior_prob):\n",
    "    new_observations = graph.nodes[node]['new_observations']\n",
    "    ep = graph.nodes[node]['nodeEP']\n",
    "    value = ((steps_so_far * new_observations) + ep) * prior_prob\n",
    "    \n",
    "    return value"
   ]
  },
  {
   "cell_type": "code",
   "execution_count": 170,
   "metadata": {},
   "outputs": [],
   "source": [
    "# Helper function for analyzePath(). Returns the node in successors which corresponds to the input_location if it is found. Returns False otherwise.\n",
    "def isInSuccessors(graph, input_position, current_node):\n",
    "    node_pos_dict = (nx.get_node_attributes(graph, 'nodeLocation'))\n",
    "    successor_list = list(graph.successors(current_node))\n",
    "    \n",
    "    for successor in successor_list:\n",
    "        if node_pos_dict[successor] == input_position:\n",
    "            return successor\n",
    "        \n",
    "    else:\n",
    "        return False"
   ]
  },
  {
   "cell_type": "code",
   "execution_count": 169,
   "metadata": {},
   "outputs": [
    {
     "data": {
      "text/plain": [
       "False"
      ]
     },
     "execution_count": 169,
     "metadata": {},
     "output_type": "execute_result"
    }
   ],
   "source": [
    "isInSuccessors(G, '(4,0)', 'N6609')"
   ]
  },
  {
   "cell_type": "code",
   "execution_count": 195,
   "metadata": {},
   "outputs": [],
   "source": [
    "def analyzePath(graph, path):\n",
    "    current_node = initRootNode(graph)\n",
    "    steps_so_far = 0\n",
    "    \n",
    "    node_sequence = [initRootNode(graph)]\n",
    "    path_value = 0\n",
    "    \n",
    "    input_path = parsePathString(path)\n",
    "\n",
    "#     for step in my_path:\n",
    "#         successor_pos = []\n",
    "#         for successor in list(graph.successors(current_node)):\n",
    "#             successor_pos.append(graph.nodes[successor]['nodeLocation'])\n",
    "        \n",
    "#         if step in successor_pos:\n",
    "            \n",
    "        \n",
    "#             if graph.nodes[successor]['nodeLocation'] == step:\n",
    "#                 current_node = successor\n",
    "#                 node_sequence.append(current_node)\n",
    "#                 break\n",
    "                \n",
    "#     print(node_sequence)\n",
    "#     print(steps_so_far)\n",
    "\n",
    "    for step in input_path[1:]:\n",
    "        if isInSuccessors(graph, step, current_node) is not False:\n",
    "            current_node = isInSuccessors(graph, step, current_node)\n",
    "            node_sequence.append(current_node)\n",
    "            \n",
    "            steps_so_far += 1\n",
    "            \n",
    "            path_value = path_value + valueCalc(graph, current_node, steps_so_far, 1/10)\n",
    "        else:\n",
    "            steps_so_far += 1\n",
    "\n",
    "    print(node_sequence)\n",
    "    print(steps_so_far)\n",
    "    print(path_value)"
   ]
  },
  {
   "cell_type": "code",
   "execution_count": 198,
   "metadata": {},
   "outputs": [],
   "source": [
    "test_path = 'p(0,0);p(0,1);p(0,2);p(0,3);p(0,4);p(1,4);p(2,4);p(3,4);p(3,3);p(3,2);'"
   ]
  },
  {
   "cell_type": "code",
   "execution_count": 199,
   "metadata": {},
   "outputs": [
    {
     "name": "stdout",
     "output_type": "stream",
     "text": [
      "['N6609', 'N2200', 'N6173', 'N5323']\n",
      "9\n",
      "8.2\n"
     ]
    }
   ],
   "source": [
    "analyzePath(G, test_path)"
   ]
  },
  {
   "cell_type": "code",
   "execution_count": 201,
   "metadata": {},
   "outputs": [
    {
     "data": {
      "text/plain": [
       "8.2"
      ]
     },
     "execution_count": 201,
     "metadata": {},
     "output_type": "execute_result"
    }
   ],
   "source": [
    "(4*5+15)*1/10+(7*3+6)*1/10+(9*2+2)*1/10"
   ]
  }
 ],
 "metadata": {
  "kernelspec": {
   "display_name": "Python 3",
   "language": "python",
   "name": "python3"
  },
  "language_info": {
   "codemirror_mode": {
    "name": "ipython",
    "version": 3
   },
   "file_extension": ".py",
   "mimetype": "text/x-python",
   "name": "python",
   "nbconvert_exporter": "python",
   "pygments_lexer": "ipython3",
   "version": "3.7.3"
  }
 },
 "nbformat": 4,
 "nbformat_minor": 2
}
