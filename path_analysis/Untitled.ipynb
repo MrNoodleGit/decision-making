{
 "cells": [
  {
   "cell_type": "code",
   "execution_count": null,
   "metadata": {},
   "outputs": [],
   "source": [
    "!jupyter nbconvert --to python path_analysis.ipynb"
   ]
  },
  {
   "cell_type": "code",
   "execution_count": 6,
   "metadata": {},
   "outputs": [],
   "source": [
    "import pandas as pd\n",
    "\n",
    "experiment_data_frame = pd.read_csv('squareLabelsWithRT_E2.csv', sep='\\t')\n",
    "\n",
    "previous_subject = ''\n",
    "previous_world = ''\n",
    "previous_path = ''\n",
    "# previous_index = 0\n",
    "input_data = []\n",
    "\n",
    "i = 0\n",
    "for row in experiment_data_frame.itertuples():\n",
    "    if previous_subject != row[1]:\n",
    "        input_data.append([previous_subject, previous_world, previous_path])\n",
    "    \n",
    "#     previous_index = index + 2\n",
    "    previous_subject = row[1]\n",
    "    previous_world = row[2]\n",
    "    previous_path = row[3]\n",
    "    \n",
    "    \n",
    "    if i == 1000:\n",
    "        break\n",
    "    i += 1\n",
    "    \n",
    "input_data.pop(0)\n"
   ]
  },
  {
   "cell_type": "code",
   "execution_count": 17,
   "metadata": {},
   "outputs": [
    {
     "data": {
      "text/plain": [
       "['S994778',\n",
       " 'bunker3',\n",
       " 'p(0,0);p(1,0);p(2,0);p(2,1);p(2,2);p(2,3);p(2,4);p(3,4);p(4,4);p(5,4);']"
      ]
     },
     "execution_count": 17,
     "metadata": {},
     "output_type": "execute_result"
    }
   ],
   "source": [
    "[experiment_data_frame.iloc[-1]['subject'], experiment_data_frame.iloc[-1]['world'], experiment_data_frame.iloc[-1]['squarepath']]"
   ]
  },
  {
   "cell_type": "code",
   "execution_count": 7,
   "metadata": {},
   "outputs": [],
   "source": [
    "import csv\n",
    "\n",
    "with open('output_file.csv', 'w') as file:\n",
    "    file_writer = csv.writer(file, delimiter='\\t')\n",
    "    file_writer.writerow([1, 2, 'hello', 'goodbye,my,friend', 3])"
   ]
  }
 ],
 "metadata": {
  "kernelspec": {
   "display_name": "Python 3",
   "language": "python",
   "name": "python3"
  },
  "language_info": {
   "codemirror_mode": {
    "name": "ipython",
    "version": 3
   },
   "file_extension": ".py",
   "mimetype": "text/x-python",
   "name": "python",
   "nbconvert_exporter": "python",
   "pygments_lexer": "ipython3",
   "version": "3.7.3"
  }
 },
 "nbformat": 4,
 "nbformat_minor": 2
}
