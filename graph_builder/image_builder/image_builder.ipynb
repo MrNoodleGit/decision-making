{
 "cells": [
  {
   "cell_type": "code",
   "execution_count": 9,
   "metadata": {},
   "outputs": [],
   "source": [
    "import numpy as np\n",
    "from ipythonblocks import ImageGrid\n",
    "import sys, os"
   ]
  },
  {
   "cell_type": "code",
   "execution_count": 12,
   "metadata": {},
   "outputs": [],
   "source": [
    "initial_observations = [(1,0),(2,0),(3,0),(4,0),(5,0),(0,1),(0,2),(0,3),(0,4)]\n",
    "start_pos = (0,0)"
   ]
  },
  {
   "cell_type": "code",
   "execution_count": 15,
   "metadata": {},
   "outputs": [
    {
     "name": "stdin",
     "output_type": "stream",
     "text": [
      "Map file name:  ikea.txt\n"
     ]
    }
   ],
   "source": [
    "def readMap(file_name):\n",
    "    return np.genfromtxt(file_name,dtype='int32',skip_header=2,delimiter=1)\n",
    "\n",
    "map_layout = readMap(input('Map file name: '))"
   ]
  },
  {
   "cell_type": "code",
   "execution_count": 16,
   "metadata": {},
   "outputs": [],
   "source": [
    "def init_map_grid(map, start_pos = None, init_observations = None):\n",
    "    grid_columns = map.shape[1]\n",
    "    grid_rows = map.shape[0]\n",
    "    grid = ImageGrid(grid_columns,grid_rows, block_size = 50, origin = 'upper-left')\n",
    "        \n",
    "    for row in range(grid_rows):\n",
    "        for column in range(grid_columns):\n",
    "            if map[row,column] == 6:\n",
    "                grid[column,row] = (255, 255, 255)\n",
    "\n",
    "            if map[row,column] == 0:\n",
    "                grid[column,row] = (0, 0, 0)\n",
    "\n",
    "            if map[row,column] == 3:\n",
    "                grid[column,row] = (153, 0, 0)\n",
    "\n",
    "            if map[row,column] == 5:\n",
    "                grid[column,row] = (0, 0, 255)\n",
    "                \n",
    "    if start_pos is not None:\n",
    "        x_pos = start_pos[0]\n",
    "        y_pos = start_pos[1]\n",
    "        grid[x_pos, y_pos] = (0, 0, 255)\n",
    "        \n",
    "    if init_observations is not None:\n",
    "        makeObserved(grid, init_observations)\n",
    "            \n",
    "    return grid"
   ]
  },
  {
   "cell_type": "code",
   "execution_count": 17,
   "metadata": {},
   "outputs": [],
   "source": [
    "mygrid = init_map_grid(map_layout, (0,0))"
   ]
  },
  {
   "cell_type": "code",
   "execution_count": 18,
   "metadata": {},
   "outputs": [
    {
     "data": {
      "text/html": [
       "<style type=\"text/css\">table.blockgrid {border: none;} .blockgrid tr {border: none;} .blockgrid td {padding: 0px;} #blocks825752fe-fa80-4aa7-a4d7-e44e65060838 td {border: 1px solid white;}</style><table id=\"blocks825752fe-fa80-4aa7-a4d7-e44e65060838\" class=\"blockgrid\"><tbody><tr><td title=\"Index: [0, 0]&#10;Color: (0, 0, 255)\" style=\"width: 50px; height: 50px;background-color: rgb(0, 0, 255);\"></td><td title=\"Index: [1, 0]&#10;Color: (153, 0, 0)\" style=\"width: 50px; height: 50px;background-color: rgb(153, 0, 0);\"></td><td title=\"Index: [2, 0]&#10;Color: (0, 0, 0)\" style=\"width: 50px; height: 50px;background-color: rgb(0, 0, 0);\"></td><td title=\"Index: [3, 0]&#10;Color: (0, 0, 0)\" style=\"width: 50px; height: 50px;background-color: rgb(0, 0, 0);\"></td><td title=\"Index: [4, 0]&#10;Color: (0, 0, 0)\" style=\"width: 50px; height: 50px;background-color: rgb(0, 0, 0);\"></td><td title=\"Index: [5, 0]&#10;Color: (0, 0, 0)\" style=\"width: 50px; height: 50px;background-color: rgb(0, 0, 0);\"></td></tr><tr><td title=\"Index: [0, 1]&#10;Color: (0, 0, 0)\" style=\"width: 50px; height: 50px;background-color: rgb(0, 0, 0);\"></td><td title=\"Index: [1, 1]&#10;Color: (153, 0, 0)\" style=\"width: 50px; height: 50px;background-color: rgb(153, 0, 0);\"></td><td title=\"Index: [2, 1]&#10;Color: (0, 0, 0)\" style=\"width: 50px; height: 50px;background-color: rgb(0, 0, 0);\"></td><td title=\"Index: [3, 1]&#10;Color: (0, 0, 0)\" style=\"width: 50px; height: 50px;background-color: rgb(0, 0, 0);\"></td><td title=\"Index: [4, 1]&#10;Color: (0, 0, 0)\" style=\"width: 50px; height: 50px;background-color: rgb(0, 0, 0);\"></td><td title=\"Index: [5, 1]&#10;Color: (0, 0, 0)\" style=\"width: 50px; height: 50px;background-color: rgb(0, 0, 0);\"></td></tr><tr><td title=\"Index: [0, 2]&#10;Color: (0, 0, 0)\" style=\"width: 50px; height: 50px;background-color: rgb(0, 0, 0);\"></td><td title=\"Index: [1, 2]&#10;Color: (153, 0, 0)\" style=\"width: 50px; height: 50px;background-color: rgb(153, 0, 0);\"></td><td title=\"Index: [2, 2]&#10;Color: (153, 0, 0)\" style=\"width: 50px; height: 50px;background-color: rgb(153, 0, 0);\"></td><td title=\"Index: [3, 2]&#10;Color: (0, 0, 0)\" style=\"width: 50px; height: 50px;background-color: rgb(0, 0, 0);\"></td><td title=\"Index: [4, 2]&#10;Color: (153, 0, 0)\" style=\"width: 50px; height: 50px;background-color: rgb(153, 0, 0);\"></td><td title=\"Index: [5, 2]&#10;Color: (153, 0, 0)\" style=\"width: 50px; height: 50px;background-color: rgb(153, 0, 0);\"></td></tr><tr><td title=\"Index: [0, 3]&#10;Color: (0, 0, 0)\" style=\"width: 50px; height: 50px;background-color: rgb(0, 0, 0);\"></td><td title=\"Index: [1, 3]&#10;Color: (0, 0, 0)\" style=\"width: 50px; height: 50px;background-color: rgb(0, 0, 0);\"></td><td title=\"Index: [2, 3]&#10;Color: (0, 0, 0)\" style=\"width: 50px; height: 50px;background-color: rgb(0, 0, 0);\"></td><td title=\"Index: [3, 3]&#10;Color: (0, 0, 0)\" style=\"width: 50px; height: 50px;background-color: rgb(0, 0, 0);\"></td><td title=\"Index: [4, 3]&#10;Color: (0, 0, 0)\" style=\"width: 50px; height: 50px;background-color: rgb(0, 0, 0);\"></td><td title=\"Index: [5, 3]&#10;Color: (0, 0, 0)\" style=\"width: 50px; height: 50px;background-color: rgb(0, 0, 0);\"></td></tr><tr><td title=\"Index: [0, 4]&#10;Color: (153, 0, 0)\" style=\"width: 50px; height: 50px;background-color: rgb(153, 0, 0);\"></td><td title=\"Index: [1, 4]&#10;Color: (153, 0, 0)\" style=\"width: 50px; height: 50px;background-color: rgb(153, 0, 0);\"></td><td title=\"Index: [2, 4]&#10;Color: (153, 0, 0)\" style=\"width: 50px; height: 50px;background-color: rgb(153, 0, 0);\"></td><td title=\"Index: [3, 4]&#10;Color: (0, 0, 0)\" style=\"width: 50px; height: 50px;background-color: rgb(0, 0, 0);\"></td><td title=\"Index: [4, 4]&#10;Color: (153, 0, 0)\" style=\"width: 50px; height: 50px;background-color: rgb(153, 0, 0);\"></td><td title=\"Index: [5, 4]&#10;Color: (153, 0, 0)\" style=\"width: 50px; height: 50px;background-color: rgb(153, 0, 0);\"></td></tr><tr><td title=\"Index: [0, 5]&#10;Color: (0, 0, 0)\" style=\"width: 50px; height: 50px;background-color: rgb(0, 0, 0);\"></td><td title=\"Index: [1, 5]&#10;Color: (0, 0, 0)\" style=\"width: 50px; height: 50px;background-color: rgb(0, 0, 0);\"></td><td title=\"Index: [2, 5]&#10;Color: (0, 0, 0)\" style=\"width: 50px; height: 50px;background-color: rgb(0, 0, 0);\"></td><td title=\"Index: [3, 5]&#10;Color: (0, 0, 0)\" style=\"width: 50px; height: 50px;background-color: rgb(0, 0, 0);\"></td><td title=\"Index: [4, 5]&#10;Color: (0, 0, 0)\" style=\"width: 50px; height: 50px;background-color: rgb(0, 0, 0);\"></td><td title=\"Index: [5, 5]&#10;Color: (0, 0, 0)\" style=\"width: 50px; height: 50px;background-color: rgb(0, 0, 0);\"></td></tr><tr><td title=\"Index: [0, 6]&#10;Color: (0, 0, 0)\" style=\"width: 50px; height: 50px;background-color: rgb(0, 0, 0);\"></td><td title=\"Index: [1, 6]&#10;Color: (153, 0, 0)\" style=\"width: 50px; height: 50px;background-color: rgb(153, 0, 0);\"></td><td title=\"Index: [2, 6]&#10;Color: (153, 0, 0)\" style=\"width: 50px; height: 50px;background-color: rgb(153, 0, 0);\"></td><td title=\"Index: [3, 6]&#10;Color: (153, 0, 0)\" style=\"width: 50px; height: 50px;background-color: rgb(153, 0, 0);\"></td><td title=\"Index: [4, 6]&#10;Color: (153, 0, 0)\" style=\"width: 50px; height: 50px;background-color: rgb(153, 0, 0);\"></td><td title=\"Index: [5, 6]&#10;Color: (0, 0, 0)\" style=\"width: 50px; height: 50px;background-color: rgb(0, 0, 0);\"></td></tr><tr><td title=\"Index: [0, 7]&#10;Color: (0, 0, 0)\" style=\"width: 50px; height: 50px;background-color: rgb(0, 0, 0);\"></td><td title=\"Index: [1, 7]&#10;Color: (0, 0, 0)\" style=\"width: 50px; height: 50px;background-color: rgb(0, 0, 0);\"></td><td title=\"Index: [2, 7]&#10;Color: (0, 0, 0)\" style=\"width: 50px; height: 50px;background-color: rgb(0, 0, 0);\"></td><td title=\"Index: [3, 7]&#10;Color: (0, 0, 0)\" style=\"width: 50px; height: 50px;background-color: rgb(0, 0, 0);\"></td><td title=\"Index: [4, 7]&#10;Color: (0, 0, 0)\" style=\"width: 50px; height: 50px;background-color: rgb(0, 0, 0);\"></td><td title=\"Index: [5, 7]&#10;Color: (0, 0, 0)\" style=\"width: 50px; height: 50px;background-color: rgb(0, 0, 0);\"></td></tr></tbody></table>"
      ],
      "text/plain": [
       "<ipythonblocks.ipythonblocks.ImageGrid at 0xafffa30>"
      ]
     },
     "execution_count": 18,
     "metadata": {},
     "output_type": "execute_result"
    }
   ],
   "source": [
    "mygrid"
   ]
  },
  {
   "cell_type": "code",
   "execution_count": 10,
   "metadata": {},
   "outputs": [],
   "source": [
    "def makeObserved(grid, observations):\n",
    "    for position in observations:\n",
    "        grid[position[0],position[1]] = (255, 255, 255)"
   ]
  },
  {
   "cell_type": "code",
   "execution_count": 60,
   "metadata": {},
   "outputs": [],
   "source": [
    "def makeImage(grid, agent_location, observations, node_name):\n",
    "    for block in grid:\n",
    "        if block.rgb == (0, 0, 255):\n",
    "            block.rgb = (255, 255, 255)\n",
    "    \n",
    "    grid[agent_location[0], agent_location[1]] = (0, 0, 255)\n",
    "    \n",
    "    makeObserved(grid, observations)\n",
    "    \n",
    "    grid.save_image(node_name + '.png')"
   ]
  },
  {
   "cell_type": "code",
   "execution_count": 52,
   "metadata": {},
   "outputs": [],
   "source": [
    "def updateGrid(grid, agent_location, observations, node_name):\n",
    "    for block in grid:\n",
    "        if block.rgb == (0, 0, 255):\n",
    "            block.rgb = (255, 255, 255)\n",
    "    \n",
    "    grid[agent_location[0], agent_location[1]] = (0, 0, 255)\n",
    "    \n",
    "    makeObserved(grid, observations)"
   ]
  },
  {
   "cell_type": "code",
   "execution_count": 11,
   "metadata": {
    "collapsed": true
   },
   "outputs": [],
   "source": [
    "makeObserved(mygrid, [(1,0),(0,1),(1,1)])"
   ]
  },
  {
   "cell_type": "code",
   "execution_count": 12,
   "metadata": {},
   "outputs": [
    {
     "data": {
      "text/html": [
       "<style type=\"text/css\">table.blockgrid {border: none;} .blockgrid tr {border: none;} .blockgrid td {padding: 0px;} #blocks90cccc29-7aab-4957-945b-4a3f0f07ca69 td {border: 1px solid white;}</style><table id=\"blocks90cccc29-7aab-4957-945b-4a3f0f07ca69\" class=\"blockgrid\"><tbody><tr><td title=\"Index: [0, 0]&#10;Color: (0, 0, 255)\" style=\"width: 50px; height: 50px;background-color: rgb(0, 0, 255);\"></td><td title=\"Index: [1, 0]&#10;Color: (255, 255, 255)\" style=\"width: 50px; height: 50px;background-color: rgb(255, 255, 255);\"></td><td title=\"Index: [2, 0]&#10;Color: (153, 0, 0)\" style=\"width: 50px; height: 50px;background-color: rgb(153, 0, 0);\"></td><td title=\"Index: [3, 0]&#10;Color: (153, 0, 0)\" style=\"width: 50px; height: 50px;background-color: rgb(153, 0, 0);\"></td><td title=\"Index: [4, 0]&#10;Color: (153, 0, 0)\" style=\"width: 50px; height: 50px;background-color: rgb(153, 0, 0);\"></td><td title=\"Index: [5, 0]&#10;Color: (153, 0, 0)\" style=\"width: 50px; height: 50px;background-color: rgb(153, 0, 0);\"></td><td title=\"Index: [6, 0]&#10;Color: (0, 0, 0)\" style=\"width: 50px; height: 50px;background-color: rgb(0, 0, 0);\"></td><td title=\"Index: [7, 0]&#10;Color: (0, 0, 0)\" style=\"width: 50px; height: 50px;background-color: rgb(0, 0, 0);\"></td></tr><tr><td title=\"Index: [0, 1]&#10;Color: (255, 255, 255)\" style=\"width: 50px; height: 50px;background-color: rgb(255, 255, 255);\"></td><td title=\"Index: [1, 1]&#10;Color: (255, 255, 255)\" style=\"width: 50px; height: 50px;background-color: rgb(255, 255, 255);\"></td><td title=\"Index: [2, 1]&#10;Color: (153, 0, 0)\" style=\"width: 50px; height: 50px;background-color: rgb(153, 0, 0);\"></td><td title=\"Index: [3, 1]&#10;Color: (153, 0, 0)\" style=\"width: 50px; height: 50px;background-color: rgb(153, 0, 0);\"></td><td title=\"Index: [4, 1]&#10;Color: (153, 0, 0)\" style=\"width: 50px; height: 50px;background-color: rgb(153, 0, 0);\"></td><td title=\"Index: [5, 1]&#10;Color: (153, 0, 0)\" style=\"width: 50px; height: 50px;background-color: rgb(153, 0, 0);\"></td><td title=\"Index: [6, 1]&#10;Color: (0, 0, 0)\" style=\"width: 50px; height: 50px;background-color: rgb(0, 0, 0);\"></td><td title=\"Index: [7, 1]&#10;Color: (0, 0, 0)\" style=\"width: 50px; height: 50px;background-color: rgb(0, 0, 0);\"></td></tr><tr><td title=\"Index: [0, 2]&#10;Color: (153, 0, 0)\" style=\"width: 50px; height: 50px;background-color: rgb(153, 0, 0);\"></td><td title=\"Index: [1, 2]&#10;Color: (0, 0, 0)\" style=\"width: 50px; height: 50px;background-color: rgb(0, 0, 0);\"></td><td title=\"Index: [2, 2]&#10;Color: (153, 0, 0)\" style=\"width: 50px; height: 50px;background-color: rgb(153, 0, 0);\"></td><td title=\"Index: [3, 2]&#10;Color: (0, 0, 0)\" style=\"width: 50px; height: 50px;background-color: rgb(0, 0, 0);\"></td><td title=\"Index: [4, 2]&#10;Color: (0, 0, 0)\" style=\"width: 50px; height: 50px;background-color: rgb(0, 0, 0);\"></td><td title=\"Index: [5, 2]&#10;Color: (153, 0, 0)\" style=\"width: 50px; height: 50px;background-color: rgb(153, 0, 0);\"></td><td title=\"Index: [6, 2]&#10;Color: (0, 0, 0)\" style=\"width: 50px; height: 50px;background-color: rgb(0, 0, 0);\"></td><td title=\"Index: [7, 2]&#10;Color: (153, 0, 0)\" style=\"width: 50px; height: 50px;background-color: rgb(153, 0, 0);\"></td></tr><tr><td title=\"Index: [0, 3]&#10;Color: (153, 0, 0)\" style=\"width: 50px; height: 50px;background-color: rgb(153, 0, 0);\"></td><td title=\"Index: [1, 3]&#10;Color: (0, 0, 0)\" style=\"width: 50px; height: 50px;background-color: rgb(0, 0, 0);\"></td><td title=\"Index: [2, 3]&#10;Color: (0, 0, 0)\" style=\"width: 50px; height: 50px;background-color: rgb(0, 0, 0);\"></td><td title=\"Index: [3, 3]&#10;Color: (0, 0, 0)\" style=\"width: 50px; height: 50px;background-color: rgb(0, 0, 0);\"></td><td title=\"Index: [4, 3]&#10;Color: (0, 0, 0)\" style=\"width: 50px; height: 50px;background-color: rgb(0, 0, 0);\"></td><td title=\"Index: [5, 3]&#10;Color: (0, 0, 0)\" style=\"width: 50px; height: 50px;background-color: rgb(0, 0, 0);\"></td><td title=\"Index: [6, 3]&#10;Color: (0, 0, 0)\" style=\"width: 50px; height: 50px;background-color: rgb(0, 0, 0);\"></td><td title=\"Index: [7, 3]&#10;Color: (153, 0, 0)\" style=\"width: 50px; height: 50px;background-color: rgb(153, 0, 0);\"></td></tr><tr><td title=\"Index: [0, 4]&#10;Color: (0, 0, 0)\" style=\"width: 50px; height: 50px;background-color: rgb(0, 0, 0);\"></td><td title=\"Index: [1, 4]&#10;Color: (0, 0, 0)\" style=\"width: 50px; height: 50px;background-color: rgb(0, 0, 0);\"></td><td title=\"Index: [2, 4]&#10;Color: (153, 0, 0)\" style=\"width: 50px; height: 50px;background-color: rgb(153, 0, 0);\"></td><td title=\"Index: [3, 4]&#10;Color: (0, 0, 0)\" style=\"width: 50px; height: 50px;background-color: rgb(0, 0, 0);\"></td><td title=\"Index: [4, 4]&#10;Color: (0, 0, 0)\" style=\"width: 50px; height: 50px;background-color: rgb(0, 0, 0);\"></td><td title=\"Index: [5, 4]&#10;Color: (153, 0, 0)\" style=\"width: 50px; height: 50px;background-color: rgb(153, 0, 0);\"></td><td title=\"Index: [6, 4]&#10;Color: (0, 0, 0)\" style=\"width: 50px; height: 50px;background-color: rgb(0, 0, 0);\"></td><td title=\"Index: [7, 4]&#10;Color: (0, 0, 0)\" style=\"width: 50px; height: 50px;background-color: rgb(0, 0, 0);\"></td></tr><tr><td title=\"Index: [0, 5]&#10;Color: (0, 0, 0)\" style=\"width: 50px; height: 50px;background-color: rgb(0, 0, 0);\"></td><td title=\"Index: [1, 5]&#10;Color: (0, 0, 0)\" style=\"width: 50px; height: 50px;background-color: rgb(0, 0, 0);\"></td><td title=\"Index: [2, 5]&#10;Color: (153, 0, 0)\" style=\"width: 50px; height: 50px;background-color: rgb(153, 0, 0);\"></td><td title=\"Index: [3, 5]&#10;Color: (153, 0, 0)\" style=\"width: 50px; height: 50px;background-color: rgb(153, 0, 0);\"></td><td title=\"Index: [4, 5]&#10;Color: (153, 0, 0)\" style=\"width: 50px; height: 50px;background-color: rgb(153, 0, 0);\"></td><td title=\"Index: [5, 5]&#10;Color: (153, 0, 0)\" style=\"width: 50px; height: 50px;background-color: rgb(153, 0, 0);\"></td><td title=\"Index: [6, 5]&#10;Color: (0, 0, 0)\" style=\"width: 50px; height: 50px;background-color: rgb(0, 0, 0);\"></td><td title=\"Index: [7, 5]&#10;Color: (0, 0, 0)\" style=\"width: 50px; height: 50px;background-color: rgb(0, 0, 0);\"></td></tr></tbody></table>"
      ],
      "text/plain": [
       "<ipythonblocks.ipythonblocks.ImageGrid at 0xc911d0>"
      ]
     },
     "execution_count": 12,
     "metadata": {},
     "output_type": "execute_result"
    }
   ],
   "source": [
    "mygrid"
   ]
  }
 ],
 "metadata": {
  "kernelspec": {
   "display_name": "Python 3",
   "language": "python",
   "name": "python3"
  },
  "language_info": {
   "codemirror_mode": {
    "name": "ipython",
    "version": 3
   },
   "file_extension": ".py",
   "mimetype": "text/x-python",
   "name": "python",
   "nbconvert_exporter": "python",
   "pygments_lexer": "ipython3",
   "version": "3.7.3"
  }
 },
 "nbformat": 4,
 "nbformat_minor": 2
}
