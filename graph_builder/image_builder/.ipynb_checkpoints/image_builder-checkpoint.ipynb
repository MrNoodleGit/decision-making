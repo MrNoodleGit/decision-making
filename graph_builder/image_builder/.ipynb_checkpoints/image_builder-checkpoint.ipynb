{
 "cells": [
  {
   "cell_type": "code",
   "execution_count": 6,
   "metadata": {},
   "outputs": [],
   "source": [
    "import numpy as np\n",
    "from ipythonblocks import ImageGrid"
   ]
  },
  {
   "cell_type": "code",
   "execution_count": 12,
   "metadata": {},
   "outputs": [
    {
     "name": "stdout",
     "output_type": "stream",
     "text": [
      "Map file name: lab.txt\n"
     ]
    }
   ],
   "source": [
    "def readMap(file_name):\n",
    "    return np.genfromtxt(file_name,dtype='int32',skip_header=2,delimiter=1)\n",
    "\n",
    "map_layout = readMap(input('Map file name: '))"
   ]
  },
  {
   "cell_type": "code",
   "execution_count": 13,
   "metadata": {},
   "outputs": [
    {
     "data": {
      "text/plain": [
       "array([[0, 0, 0, 3, 3, 3],\n",
       "       [3, 3, 0, 3, 0, 0],\n",
       "       [0, 0, 0, 0, 0, 0],\n",
       "       [0, 3, 0, 3, 0, 0],\n",
       "       [2, 3, 0, 3, 3, 3],\n",
       "       [3, 3, 0, 0, 0, 3],\n",
       "       [0, 3, 0, 3, 0, 0],\n",
       "       [0, 0, 0, 3, 3, 3]])"
      ]
     },
     "execution_count": 13,
     "metadata": {},
     "output_type": "execute_result"
    }
   ],
   "source": [
    "map_layout"
   ]
  },
  {
   "cell_type": "code",
   "execution_count": 9,
   "metadata": {},
   "outputs": [],
   "source": [
    "def init_map_grid(map, start_pos = None):\n",
    "    grid_columns = map.shape[1]\n",
    "    grid_rows = map.shape[0]\n",
    "    grid = ImageGrid(grid_columns,grid_rows, block_size = 50, origin = 'upper-left')\n",
    "        \n",
    "    for row in range(grid_rows):\n",
    "        for column in range(grid_columns):\n",
    "            if map[row,column] == 6:\n",
    "                grid[column,row] = (255, 255, 255)\n",
    "\n",
    "            if map[row,column] == 0:\n",
    "                grid[column,row] = (0, 0, 0)\n",
    "\n",
    "            if map[row,column] == 3:\n",
    "                grid[column,row] = (153, 0, 0)\n",
    "\n",
    "            if map[row,column] == 5:\n",
    "                grid[column,row] = (0, 0, 255)\n",
    "                \n",
    "    if start_pos is not None:\n",
    "        x_pos = start_pos[0]\n",
    "        y_pos = start_pos[1]\n",
    "        grid[x_pos, y_pos] = (0, 0, 255)\n",
    "            \n",
    "    return grid"
   ]
  },
  {
   "cell_type": "code",
   "execution_count": 16,
   "metadata": {},
   "outputs": [],
   "source": [
    "mygrid = init_map_grid(map_layout, start_pos = (2,0))"
   ]
  },
  {
   "cell_type": "code",
   "execution_count": 17,
   "metadata": {
    "scrolled": false
   },
   "outputs": [
    {
     "data": {
      "text/html": [
       "<style type=\"text/css\">table.blockgrid {border: none;} .blockgrid tr {border: none;} .blockgrid td {padding: 0px;} #blocks6f948ec8-63b1-4357-b198-afa6e296555f td {border: 1px solid white;}</style><table id=\"blocks6f948ec8-63b1-4357-b198-afa6e296555f\" class=\"blockgrid\"><tbody><tr><td title=\"Index: [0, 0]&#10;Color: (0, 0, 0)\" style=\"width: 50px; height: 50px;background-color: rgb(0, 0, 0);\"></td><td title=\"Index: [1, 0]&#10;Color: (0, 0, 0)\" style=\"width: 50px; height: 50px;background-color: rgb(0, 0, 0);\"></td><td title=\"Index: [2, 0]&#10;Color: (0, 0, 255)\" style=\"width: 50px; height: 50px;background-color: rgb(0, 0, 255);\"></td><td title=\"Index: [3, 0]&#10;Color: (153, 0, 0)\" style=\"width: 50px; height: 50px;background-color: rgb(153, 0, 0);\"></td><td title=\"Index: [4, 0]&#10;Color: (153, 0, 0)\" style=\"width: 50px; height: 50px;background-color: rgb(153, 0, 0);\"></td><td title=\"Index: [5, 0]&#10;Color: (153, 0, 0)\" style=\"width: 50px; height: 50px;background-color: rgb(153, 0, 0);\"></td></tr><tr><td title=\"Index: [0, 1]&#10;Color: (153, 0, 0)\" style=\"width: 50px; height: 50px;background-color: rgb(153, 0, 0);\"></td><td title=\"Index: [1, 1]&#10;Color: (153, 0, 0)\" style=\"width: 50px; height: 50px;background-color: rgb(153, 0, 0);\"></td><td title=\"Index: [2, 1]&#10;Color: (0, 0, 0)\" style=\"width: 50px; height: 50px;background-color: rgb(0, 0, 0);\"></td><td title=\"Index: [3, 1]&#10;Color: (153, 0, 0)\" style=\"width: 50px; height: 50px;background-color: rgb(153, 0, 0);\"></td><td title=\"Index: [4, 1]&#10;Color: (0, 0, 0)\" style=\"width: 50px; height: 50px;background-color: rgb(0, 0, 0);\"></td><td title=\"Index: [5, 1]&#10;Color: (0, 0, 0)\" style=\"width: 50px; height: 50px;background-color: rgb(0, 0, 0);\"></td></tr><tr><td title=\"Index: [0, 2]&#10;Color: (0, 0, 0)\" style=\"width: 50px; height: 50px;background-color: rgb(0, 0, 0);\"></td><td title=\"Index: [1, 2]&#10;Color: (0, 0, 0)\" style=\"width: 50px; height: 50px;background-color: rgb(0, 0, 0);\"></td><td title=\"Index: [2, 2]&#10;Color: (0, 0, 0)\" style=\"width: 50px; height: 50px;background-color: rgb(0, 0, 0);\"></td><td title=\"Index: [3, 2]&#10;Color: (0, 0, 0)\" style=\"width: 50px; height: 50px;background-color: rgb(0, 0, 0);\"></td><td title=\"Index: [4, 2]&#10;Color: (0, 0, 0)\" style=\"width: 50px; height: 50px;background-color: rgb(0, 0, 0);\"></td><td title=\"Index: [5, 2]&#10;Color: (0, 0, 0)\" style=\"width: 50px; height: 50px;background-color: rgb(0, 0, 0);\"></td></tr><tr><td title=\"Index: [0, 3]&#10;Color: (0, 0, 0)\" style=\"width: 50px; height: 50px;background-color: rgb(0, 0, 0);\"></td><td title=\"Index: [1, 3]&#10;Color: (153, 0, 0)\" style=\"width: 50px; height: 50px;background-color: rgb(153, 0, 0);\"></td><td title=\"Index: [2, 3]&#10;Color: (0, 0, 0)\" style=\"width: 50px; height: 50px;background-color: rgb(0, 0, 0);\"></td><td title=\"Index: [3, 3]&#10;Color: (153, 0, 0)\" style=\"width: 50px; height: 50px;background-color: rgb(153, 0, 0);\"></td><td title=\"Index: [4, 3]&#10;Color: (0, 0, 0)\" style=\"width: 50px; height: 50px;background-color: rgb(0, 0, 0);\"></td><td title=\"Index: [5, 3]&#10;Color: (0, 0, 0)\" style=\"width: 50px; height: 50px;background-color: rgb(0, 0, 0);\"></td></tr><tr><td title=\"Index: [0, 4]&#10;Color: (0, 0, 0)\" style=\"width: 50px; height: 50px;background-color: rgb(0, 0, 0);\"></td><td title=\"Index: [1, 4]&#10;Color: (153, 0, 0)\" style=\"width: 50px; height: 50px;background-color: rgb(153, 0, 0);\"></td><td title=\"Index: [2, 4]&#10;Color: (0, 0, 0)\" style=\"width: 50px; height: 50px;background-color: rgb(0, 0, 0);\"></td><td title=\"Index: [3, 4]&#10;Color: (153, 0, 0)\" style=\"width: 50px; height: 50px;background-color: rgb(153, 0, 0);\"></td><td title=\"Index: [4, 4]&#10;Color: (153, 0, 0)\" style=\"width: 50px; height: 50px;background-color: rgb(153, 0, 0);\"></td><td title=\"Index: [5, 4]&#10;Color: (153, 0, 0)\" style=\"width: 50px; height: 50px;background-color: rgb(153, 0, 0);\"></td></tr><tr><td title=\"Index: [0, 5]&#10;Color: (153, 0, 0)\" style=\"width: 50px; height: 50px;background-color: rgb(153, 0, 0);\"></td><td title=\"Index: [1, 5]&#10;Color: (153, 0, 0)\" style=\"width: 50px; height: 50px;background-color: rgb(153, 0, 0);\"></td><td title=\"Index: [2, 5]&#10;Color: (0, 0, 0)\" style=\"width: 50px; height: 50px;background-color: rgb(0, 0, 0);\"></td><td title=\"Index: [3, 5]&#10;Color: (0, 0, 0)\" style=\"width: 50px; height: 50px;background-color: rgb(0, 0, 0);\"></td><td title=\"Index: [4, 5]&#10;Color: (0, 0, 0)\" style=\"width: 50px; height: 50px;background-color: rgb(0, 0, 0);\"></td><td title=\"Index: [5, 5]&#10;Color: (153, 0, 0)\" style=\"width: 50px; height: 50px;background-color: rgb(153, 0, 0);\"></td></tr><tr><td title=\"Index: [0, 6]&#10;Color: (0, 0, 0)\" style=\"width: 50px; height: 50px;background-color: rgb(0, 0, 0);\"></td><td title=\"Index: [1, 6]&#10;Color: (153, 0, 0)\" style=\"width: 50px; height: 50px;background-color: rgb(153, 0, 0);\"></td><td title=\"Index: [2, 6]&#10;Color: (0, 0, 0)\" style=\"width: 50px; height: 50px;background-color: rgb(0, 0, 0);\"></td><td title=\"Index: [3, 6]&#10;Color: (153, 0, 0)\" style=\"width: 50px; height: 50px;background-color: rgb(153, 0, 0);\"></td><td title=\"Index: [4, 6]&#10;Color: (0, 0, 0)\" style=\"width: 50px; height: 50px;background-color: rgb(0, 0, 0);\"></td><td title=\"Index: [5, 6]&#10;Color: (0, 0, 0)\" style=\"width: 50px; height: 50px;background-color: rgb(0, 0, 0);\"></td></tr><tr><td title=\"Index: [0, 7]&#10;Color: (0, 0, 0)\" style=\"width: 50px; height: 50px;background-color: rgb(0, 0, 0);\"></td><td title=\"Index: [1, 7]&#10;Color: (0, 0, 0)\" style=\"width: 50px; height: 50px;background-color: rgb(0, 0, 0);\"></td><td title=\"Index: [2, 7]&#10;Color: (0, 0, 0)\" style=\"width: 50px; height: 50px;background-color: rgb(0, 0, 0);\"></td><td title=\"Index: [3, 7]&#10;Color: (153, 0, 0)\" style=\"width: 50px; height: 50px;background-color: rgb(153, 0, 0);\"></td><td title=\"Index: [4, 7]&#10;Color: (153, 0, 0)\" style=\"width: 50px; height: 50px;background-color: rgb(153, 0, 0);\"></td><td title=\"Index: [5, 7]&#10;Color: (153, 0, 0)\" style=\"width: 50px; height: 50px;background-color: rgb(153, 0, 0);\"></td></tr></tbody></table>"
      ],
      "text/plain": [
       "<ipythonblocks.ipythonblocks.ImageGrid at 0xa637170>"
      ]
     },
     "execution_count": 17,
     "metadata": {},
     "output_type": "execute_result"
    }
   ],
   "source": [
    "mygrid"
   ]
  },
  {
   "cell_type": "code",
   "execution_count": null,
   "metadata": {},
   "outputs": [],
   "source": [
    "mygrid.save_image('mygrid.png')"
   ]
  }
 ],
 "metadata": {
  "kernelspec": {
   "display_name": "Python 3",
   "language": "python",
   "name": "python3"
  },
  "language_info": {
   "codemirror_mode": {
    "name": "ipython",
    "version": 3
   },
   "file_extension": ".py",
   "mimetype": "text/x-python",
   "name": "python",
   "nbconvert_exporter": "python",
   "pygments_lexer": "ipython3",
   "version": "3.7.3"
  }
 },
 "nbformat": 4,
 "nbformat_minor": 2
}
