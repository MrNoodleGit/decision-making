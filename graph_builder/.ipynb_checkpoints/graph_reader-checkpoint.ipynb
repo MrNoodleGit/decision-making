{
 "cells": [
  {
   "cell_type": "code",
   "execution_count": 1,
   "metadata": {},
   "outputs": [],
   "source": [
    "import networkx as nx"
   ]
  },
  {
   "cell_type": "code",
   "execution_count": 2,
   "metadata": {},
   "outputs": [],
   "source": [
    "def readGraph(file_name):\n",
    "    G = nx.read_graphml(file_name)\n",
    "\n",
    "    relabel = {}\n",
    "    for node in G.nodes:\n",
    "        relabel[node] = G.nodes[node]['name']\n",
    "\n",
    "    H = nx.relabel_nodes(G,relabel)\n",
    "\n",
    "    for node in H.nodes:\n",
    "        del H.nodes[node]['SUID']\n",
    "        del H.nodes[node]['shared name']\n",
    "        del H.nodes[node]['selected']\n",
    "\n",
    "    my_edges = list(H.edges())\n",
    "\n",
    "    for edge in H.edges:\n",
    "        del H.edges[edge]['SUID']\n",
    "        del H.edges[edge]['shared name']\n",
    "        del H.edges[edge]['shared interaction']\n",
    "        del H.edges[edge]['selected']\n",
    "\n",
    "    for edge in H.edges:\n",
    "        H.edges[edge]['weight'] = H.edges[edge]['steps_from_parent']\n",
    "        \n",
    "    return H"
   ]
  },
  {
   "cell_type": "code",
   "execution_count": 3,
   "metadata": {},
   "outputs": [],
   "source": [
    "G = readGraph('courtyard.graphml')"
   ]
  },
  {
   "cell_type": "code",
   "execution_count": 12,
   "metadata": {},
   "outputs": [
    {
     "ename": "NameError",
     "evalue": "name 'node_list' is not defined",
     "output_type": "error",
     "traceback": [
      "\u001b[1;31m---------------------------------------------------------------------------\u001b[0m",
      "\u001b[1;31mNameError\u001b[0m                                 Traceback (most recent call last)",
      "\u001b[1;32m<ipython-input-12-c01a4b0eb407>\u001b[0m in \u001b[0;36m<module>\u001b[1;34m\u001b[0m\n\u001b[1;32m----> 1\u001b[1;33m \u001b[0mG\u001b[0m\u001b[1;33m.\u001b[0m\u001b[0mnodes\u001b[0m\u001b[1;33m[\u001b[0m\u001b[0mnode_list\u001b[0m\u001b[1;33m[\u001b[0m\u001b[1;36m0\u001b[0m\u001b[1;33m]\u001b[0m\u001b[1;33m]\u001b[0m\u001b[1;33m\u001b[0m\u001b[1;33m\u001b[0m\u001b[0m\n\u001b[0m",
      "\u001b[1;31mNameError\u001b[0m: name 'node_list' is not defined"
     ]
    }
   ],
   "source": [
    "G.nodes[node_list[]]"
   ]
  }
 ],
 "metadata": {
  "kernelspec": {
   "display_name": "Python 3",
   "language": "python",
   "name": "python3"
  },
  "language_info": {
   "codemirror_mode": {
    "name": "ipython",
    "version": 3
   },
   "file_extension": ".py",
   "mimetype": "text/x-python",
   "name": "python",
   "nbconvert_exporter": "python",
   "pygments_lexer": "ipython3",
   "version": "3.7.3"
  }
 },
 "nbformat": 4,
 "nbformat_minor": 2
}
