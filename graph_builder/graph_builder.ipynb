{
 "cells": [
  {
   "cell_type": "code",
   "execution_count": 3,
   "metadata": {},
   "outputs": [],
   "source": [
    "import pandas as pd\n",
    "import networkx as nx"
   ]
  },
  {
   "cell_type": "code",
   "execution_count": 45,
   "metadata": {},
   "outputs": [],
   "source": [
    "def build_graph(file_path):\n",
    "    graph_data_frame = pd.read_csv(file_path, sep='\\t')\n",
    "    graph_data_frame['PARENTID'].fillna('X', inplace=True)\n",
    "\n",
    "    G = nx.DiGraph(world=graph_data_frame['world'][0])\n",
    "    edge_list = list(zip(graph_data_frame['PARENTID'], graph_data_frame['NID']))\n",
    "    edge_list.pop(0) # Remove edge leading to root node.\n",
    "    G.add_edges_from(edge_list)\n",
    "\n",
    "    name_dict = {node: name for node, name in\n",
    "                          zip(graph_data_frame['NID'], graph_data_frame['NID'])\n",
    "                          }\n",
    "    node_location_dict = {node: location for node, location in\n",
    "                          zip(graph_data_frame['NID'], graph_data_frame['node_location'])\n",
    "                          }\n",
    "    depth_dict = {node: depth for node, depth in \n",
    "                  zip(graph_data_frame['NID'], graph_data_frame['depth'])\n",
    "                          }\n",
    "    new_observations_dict = {node: new_observations for node, new_observations in \n",
    "                             zip(graph_data_frame['NID'], graph_data_frame['new_observations'])\n",
    "                          }\n",
    "    steps_from_root_dict = {node: steps for node, steps in \n",
    "                            zip(graph_data_frame['NID'], graph_data_frame['steps_from_root'])\n",
    "                          }\n",
    "    is_leaf_dict = {node: truth_value for node, truth_value in \n",
    "                    zip(graph_data_frame['NID'], graph_data_frame['is_leaf'])\n",
    "                          }\n",
    "    path_value_dict = {node: value for node, value in \n",
    "                       zip(graph_data_frame['NID'], graph_data_frame['node_value'])\n",
    "                          }\n",
    "    node_ep_dict = {node: node_ep for node, node_ep in \n",
    "                    zip(graph_data_frame['NID'], graph_data_frame['node_ep'])\n",
    "                          }\n",
    "    black_remains_dict = {node: black_remains for node, black_remains in \n",
    "                          zip(graph_data_frame['NID'], graph_data_frame['black_remains'])\n",
    "                          }\n",
    "    steps_from_parent_node_dict = {node: steps for node, steps in \n",
    "                          zip(graph_data_frame['NID'], graph_data_frame['steps_from_parent'])\n",
    "                          }\n",
    "    choice_direction_dict = {node: direction for node, direction in\n",
    "                          zip(graph_data_frame['NID'], [get_choice_direction(path) for path in graph_data_frame['path_from_parent']])\n",
    "                          }\n",
    "    \n",
    "    nx.set_node_attributes(G, name_dict, 'name')\n",
    "    nx.set_node_attributes(G, node_location_dict, 'node_location')\n",
    "    nx.set_node_attributes(G, depth_dict, 'depth')\n",
    "    nx.set_node_attributes(G, new_observations_dict, 'new_observations')\n",
    "    nx.set_node_attributes(G, steps_from_root_dict, 'steps_from_root')\n",
    "    nx.set_node_attributes(G, is_leaf_dict, 'is_leaf')\n",
    "    nx.set_node_attributes(G, path_value_dict, 'path_value')\n",
    "    nx.set_node_attributes(G, node_ep_dict, 'node_ep')\n",
    "    nx.set_node_attributes(G, black_remains_dict, 'black_remains')\n",
    "    nx.set_node_attributes(G, steps_from_parent_node_dict, 'steps_from_parent')\n",
    "    nx.set_node_attributes(G, choice_direction_dict, 'choice_direction')\n",
    "\n",
    "    path_from_parent_dict = {edge: path for edge, path in \n",
    "                             zip(edge_list, graph_data_frame['path_from_parent'][1:])\n",
    "                            }\n",
    "    steps_from_parent_edge_dict = {edge: steps for edge, steps in \n",
    "                             zip(edge_list, graph_data_frame['steps_from_parent'][1:])\n",
    "                            }\n",
    "\n",
    "    nx.set_edge_attributes(G, path_from_parent_dict, 'path_from_parent')\n",
    "    nx.set_edge_attributes(G, steps_from_parent_edge_dict, 'steps_from_parent')\n",
    "    nx.set_edge_attributes(G, steps_from_parent_edge_dict, 'weight') # Assign steps from parent to node as edge weight\n",
    "    \n",
    "    return G"
   ]
  },
  {
   "cell_type": "code",
   "execution_count": 46,
   "metadata": {},
   "outputs": [],
   "source": [
    "def parse_path_string(path_string):\n",
    "    a = path_string.replace('p','')\n",
    "    b = a.split(';')\n",
    "    b.remove('')\n",
    "    \n",
    "    return b"
   ]
  },
  {
   "cell_type": "code",
   "execution_count": 47,
   "metadata": {},
   "outputs": [],
   "source": [
    "def parse_location(location: str):\n",
    "    location_list = location\n",
    "    location_list = location_list.strip('()')\n",
    "    location_list = location_list.split(',')\n",
    "    location_list = [int(item) for item in location_list]\n",
    "    \n",
    "    return location_list"
   ]
  },
  {
   "cell_type": "code",
   "execution_count": 48,
   "metadata": {},
   "outputs": [],
   "source": [
    "def get_choice_direction(path_from_parent):\n",
    "    parsed_path = parse_path_string(path_from_parent)\n",
    "    \n",
    "    try:\n",
    "        current_location = parse_location(parsed_path[0])\n",
    "        next_location = parse_location(parsed_path[1])\n",
    "    except IndexError:\n",
    "        return None\n",
    "    \n",
    "    # Left\n",
    "    if next_location[0] < current_location[0]:\n",
    "        return 0\n",
    "    # Right\n",
    "    elif next_location[0] > current_location[0]:\n",
    "        return 1\n",
    "    # Up\n",
    "    elif next_location[1] < current_location[1]:\n",
    "        return 2\n",
    "    # Down\n",
    "    elif next_location[1] > current_location[1]:\n",
    "        return 3\n",
    "    else:\n",
    "        raise Exception(\"No direction could be assigned. Check function input\")"
   ]
  },
  {
   "cell_type": "code",
   "execution_count": 8,
   "metadata": {},
   "outputs": [
    {
     "data": {
      "text/plain": [
       "'(3,3)'"
      ]
     },
     "execution_count": 8,
     "metadata": {},
     "output_type": "execute_result"
    }
   ],
   "source": [
    "parse_path_string('p(3,4);p(3,3);p(3,2);')[1]"
   ]
  },
  {
   "cell_type": "code",
   "execution_count": 10,
   "metadata": {},
   "outputs": [
    {
     "data": {
      "text/plain": [
       "[3, 3]"
      ]
     },
     "execution_count": 10,
     "metadata": {},
     "output_type": "execute_result"
    }
   ],
   "source": [
    "parse_location(parse_path_string('p(3,4);p(3,3);p(3,2);')[1])"
   ]
  },
  {
   "cell_type": "code",
   "execution_count": 41,
   "metadata": {},
   "outputs": [],
   "source": [
    "get_choice_direction('p(0,0);')"
   ]
  },
  {
   "cell_type": "code",
   "execution_count": 50,
   "metadata": {},
   "outputs": [],
   "source": [
    "H = build_graph('treebuilderUpdated/courtyard.csv')"
   ]
  },
  {
   "cell_type": "code",
   "execution_count": 51,
   "metadata": {},
   "outputs": [
    {
     "data": {
      "text/plain": [
       "{'N6609': None,\n",
       " 'N2554': 1,\n",
       " 'N2200': 3,\n",
       " 'N6588': 3,\n",
       " 'N5553': 0,\n",
       " 'N6173': 1,\n",
       " 'N7822': 3,\n",
       " 'N3405': 1,\n",
       " 'N5323': 2}"
      ]
     },
     "execution_count": 51,
     "metadata": {},
     "output_type": "execute_result"
    }
   ],
   "source": [
    "nx.get_node_attributes(H, 'choice_direction')"
   ]
  }
 ],
 "metadata": {
  "file_extension": ".py",
  "kernelspec": {
   "display_name": "Python 3",
   "language": "python",
   "name": "python3"
  },
  "language_info": {
   "codemirror_mode": {
    "name": "ipython",
    "version": 3
   },
   "file_extension": ".py",
   "mimetype": "text/x-python",
   "name": "python",
   "nbconvert_exporter": "python",
   "pygments_lexer": "ipython3",
   "version": "3.7.3"
  },
  "mimetype": "text/x-python",
  "name": "python",
  "npconvert_exporter": "python",
  "pygments_lexer": "ipython3",
  "version": 3
 },
 "nbformat": 4,
 "nbformat_minor": 2
}
