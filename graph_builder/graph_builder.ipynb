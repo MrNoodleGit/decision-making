{
 "cells": [
  {
   "cell_type": "code",
   "execution_count": 20,
   "metadata": {},
   "outputs": [],
   "source": [
    "import pandas as pd\n",
    "import networkx as nx"
   ]
  },
  {
   "cell_type": "code",
   "execution_count": 25,
   "metadata": {},
   "outputs": [],
   "source": [
    "def build_graph(file_path):\n",
    "    graph_data_frame = pd.read_csv(file_path, sep='\\t')\n",
    "    graph_data_frame['PARENTID'].fillna('X', inplace=True)\n",
    "\n",
    "    G = nx.DiGraph(world=graph_data_frame['world'][0])\n",
    "    edge_list = list(zip(graph_data_frame['PARENTID'], graph_data_frame['NID']))\n",
    "    edge_list.pop(0) # Remove edge leading to root node.\n",
    "    G.add_edges_from(edge_list)\n",
    "\n",
    "    name_dict = {node: name for node, name in\n",
    "                          zip(graph_data_frame['NID'], graph_data_frame['NID'])\n",
    "                          }\n",
    "    node_location_dict = {node: location for node, location in\n",
    "                          zip(graph_data_frame['NID'], graph_data_frame['node_location'])\n",
    "                          }\n",
    "    depth_dict = {node: depth for node, depth in \n",
    "                  zip(graph_data_frame['NID'], graph_data_frame['depth'])\n",
    "                          }\n",
    "    new_observations_dict = {node: new_observations for node, new_observations in \n",
    "                             zip(graph_data_frame['NID'], graph_data_frame['new_observations'])\n",
    "                          }\n",
    "    steps_from_root_dict = {node: steps for node, steps in \n",
    "                            zip(graph_data_frame['NID'], graph_data_frame['steps_from_root'])\n",
    "                          }\n",
    "    is_leaf_dict = {node: truth_value for node, truth_value in \n",
    "                    zip(graph_data_frame['NID'], graph_data_frame['is_leaf'])\n",
    "                          }\n",
    "    node_value_dict = {node: value for node, value in \n",
    "                       zip(graph_data_frame['NID'], graph_data_frame['node_value'])\n",
    "                          }\n",
    "    node_ep_dict = {node: node_ep for node, node_ep in \n",
    "                    zip(graph_data_frame['NID'], graph_data_frame['node_ep'])\n",
    "                          }\n",
    "    black_remains_dict = {node: black_remains for node, black_remains in \n",
    "                          zip(graph_data_frame['NID'], graph_data_frame['black_remains'])\n",
    "                          }\n",
    "    \n",
    "    nx.set_node_attributes(G, name_dict, 'name')\n",
    "    nx.set_node_attributes(G, node_location_dict, 'node_location')\n",
    "    nx.set_node_attributes(G, depth_dict, 'depth')\n",
    "    nx.set_node_attributes(G, new_observations_dict, 'new_observations')\n",
    "    nx.set_node_attributes(G, steps_from_root_dict, 'steps_from_root')\n",
    "    nx.set_node_attributes(G, is_leaf_dict, 'is_leaf')\n",
    "    nx.set_node_attributes(G, node_value_dict, 'node_value')\n",
    "    nx.set_node_attributes(G, node_ep_dict, 'node_ep')\n",
    "    nx.set_node_attributes(G, black_remains_dict, 'black_remains')\n",
    "\n",
    "    path_from_parent_dict = {edge: path for edge, path in \n",
    "                             zip(edge_list, graph_data_frame['path_from_parent'][1:])\n",
    "                            }\n",
    "    steps_from_parent_dict = {edge: steps for edge, steps in \n",
    "                             zip(edge_list, graph_data_frame['steps_from_parent'][1:])\n",
    "                            }\n",
    "\n",
    "    nx.set_edge_attributes(G, path_from_parent_dict, 'path_from_parent')\n",
    "    nx.set_edge_attributes(G, steps_from_parent_dict, 'steps_from_parent')\n",
    "    nx.set_edge_attributes(G, steps_from_parent_dict, 'weight') # Assign steps from parent to node as edge weight\n",
    "    \n",
    "    return G"
   ]
  }
 ],
 "metadata": {
  "kernelspec": {
   "display_name": "Python 3",
   "language": "python",
   "name": "python3"
  },
  "language_info": {
   "codemirror_mode": {
    "name": "ipython",
    "version": 3
   },
   "file_extension": ".py",
   "mimetype": "text/x-python",
   "name": "python",
   "nbconvert_exporter": "python",
   "pygments_lexer": "ipython3",
   "version": "3.7.3"
  }
 },
 "nbformat": 4,
 "nbformat_minor": 2
}
